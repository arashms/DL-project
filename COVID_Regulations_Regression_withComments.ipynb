{
  "nbformat": 4,
  "nbformat_minor": 0,
  "metadata": {
    "colab": {
      "name": "COVID-Regulations.ipynb",
      "provenance": [],
      "collapsed_sections": [],
      "include_colab_link": true
    },
    "kernelspec": {
      "name": "python3",
      "display_name": "Python 3"
    },
    "language_info": {
      "name": "python"
    },
    "accelerator": "GPU"
  },
  "cells": [
    {
      "cell_type": "markdown",
      "metadata": {
        "id": "view-in-github",
        "colab_type": "text"
      },
      "source": [
        "<a href=\"https://colab.research.google.com/github/arashms/DL-project/blob/densebasenet/COVID_Regulations_Regression_withComments.ipynb\" target=\"_parent\"><img src=\"https://colab.research.google.com/assets/colab-badge.svg\" alt=\"Open In Colab\"/></a>"
      ]
    },
    {
      "cell_type": "markdown",
      "metadata": {
        "id": "hbEqmVApz_64"
      },
      "source": [
        "# 1. Install and Import libraries and define parameters"
      ]
    },
    {
      "cell_type": "markdown",
      "metadata": {
        "id": "_nYK2n3Y0Ei9"
      },
      "source": [
        "### Install & Import Libraries"
      ]
    },
    {
      "cell_type": "code",
      "metadata": {
        "colab": {
          "base_uri": "https://localhost:8080/"
        },
        "id": "GwUDsD-40hk0",
        "outputId": "ad2e271d-6f91-4e31-e828-ef00f17484b2"
      },
      "source": [
        "!pip install transformers"
      ],
      "execution_count": null,
      "outputs": [
        {
          "output_type": "stream",
          "text": [
            "Collecting transformers\n",
            "\u001b[?25l  Downloading https://files.pythonhosted.org/packages/d8/b2/57495b5309f09fa501866e225c84532d1fd89536ea62406b2181933fb418/transformers-4.5.1-py3-none-any.whl (2.1MB)\n",
            "\u001b[K     |████████████████████████████████| 2.1MB 12.4MB/s \n",
            "\u001b[?25hRequirement already satisfied: filelock in /usr/local/lib/python3.7/dist-packages (from transformers) (3.0.12)\n",
            "Requirement already satisfied: regex!=2019.12.17 in /usr/local/lib/python3.7/dist-packages (from transformers) (2019.12.20)\n",
            "Collecting sacremoses\n",
            "\u001b[?25l  Downloading https://files.pythonhosted.org/packages/75/ee/67241dc87f266093c533a2d4d3d69438e57d7a90abb216fa076e7d475d4a/sacremoses-0.0.45-py3-none-any.whl (895kB)\n",
            "\u001b[K     |████████████████████████████████| 901kB 49.1MB/s \n",
            "\u001b[?25hRequirement already satisfied: numpy>=1.17 in /usr/local/lib/python3.7/dist-packages (from transformers) (1.19.5)\n",
            "Requirement already satisfied: importlib-metadata; python_version < \"3.8\" in /usr/local/lib/python3.7/dist-packages (from transformers) (3.10.1)\n",
            "Requirement already satisfied: tqdm>=4.27 in /usr/local/lib/python3.7/dist-packages (from transformers) (4.41.1)\n",
            "Requirement already satisfied: requests in /usr/local/lib/python3.7/dist-packages (from transformers) (2.23.0)\n",
            "Requirement already satisfied: packaging in /usr/local/lib/python3.7/dist-packages (from transformers) (20.9)\n",
            "Collecting tokenizers<0.11,>=0.10.1\n",
            "\u001b[?25l  Downloading https://files.pythonhosted.org/packages/ae/04/5b870f26a858552025a62f1649c20d29d2672c02ff3c3fb4c688ca46467a/tokenizers-0.10.2-cp37-cp37m-manylinux2010_x86_64.whl (3.3MB)\n",
            "\u001b[K     |████████████████████████████████| 3.3MB 41.6MB/s \n",
            "\u001b[?25hRequirement already satisfied: six in /usr/local/lib/python3.7/dist-packages (from sacremoses->transformers) (1.15.0)\n",
            "Requirement already satisfied: click in /usr/local/lib/python3.7/dist-packages (from sacremoses->transformers) (7.1.2)\n",
            "Requirement already satisfied: joblib in /usr/local/lib/python3.7/dist-packages (from sacremoses->transformers) (1.0.1)\n",
            "Requirement already satisfied: zipp>=0.5 in /usr/local/lib/python3.7/dist-packages (from importlib-metadata; python_version < \"3.8\"->transformers) (3.4.1)\n",
            "Requirement already satisfied: typing-extensions>=3.6.4; python_version < \"3.8\" in /usr/local/lib/python3.7/dist-packages (from importlib-metadata; python_version < \"3.8\"->transformers) (3.7.4.3)\n",
            "Requirement already satisfied: urllib3!=1.25.0,!=1.25.1,<1.26,>=1.21.1 in /usr/local/lib/python3.7/dist-packages (from requests->transformers) (1.24.3)\n",
            "Requirement already satisfied: certifi>=2017.4.17 in /usr/local/lib/python3.7/dist-packages (from requests->transformers) (2020.12.5)\n",
            "Requirement already satisfied: chardet<4,>=3.0.2 in /usr/local/lib/python3.7/dist-packages (from requests->transformers) (3.0.4)\n",
            "Requirement already satisfied: idna<3,>=2.5 in /usr/local/lib/python3.7/dist-packages (from requests->transformers) (2.10)\n",
            "Requirement already satisfied: pyparsing>=2.0.2 in /usr/local/lib/python3.7/dist-packages (from packaging->transformers) (2.4.7)\n",
            "Installing collected packages: sacremoses, tokenizers, transformers\n",
            "Successfully installed sacremoses-0.0.45 tokenizers-0.10.2 transformers-4.5.1\n"
          ],
          "name": "stdout"
        }
      ]
    },
    {
      "cell_type": "code",
      "metadata": {
        "id": "Duysy8f6zlTc"
      },
      "source": [
        "import numpy as np\n",
        "import pandas as pd\n",
        "import torch\n",
        "import torch.nn as nn\n",
        "import torch.nn.functional as F\n",
        "import torch.optim as optim\n",
        "from torch.utils.data import TensorDataset, random_split\n",
        "from torch.utils.data import DataLoader, RandomSampler, SequentialSampler\n",
        "from torch.nn.functional import softmax\n",
        "import matplotlib.pyplot as plt\n",
        "from tqdm import tqdm\n",
        "import os\n",
        "import csv \n",
        "import random\n",
        "from transformers import BertTokenizer, RobertaTokenizer\n",
        "from transformers import BertForNextSentencePrediction, AdamW, BertConfig\n",
        "from transformers import get_linear_schedule_with_warmup\n",
        "from scipy import stats\n",
        "import time\n",
        "import datetime\n",
        "import pickle\n",
        "from sklearn.model_selection import train_test_split\n",
        "from nltk.tokenize import word_tokenize\n",
        "import gc\n",
        "import itertools\n",
        "import nltk\n",
        "import transformers\n",
        "from sklearn.model_selection import train_test_split\n",
        "from sklearn.metrics import accuracy_score\n",
        "from torch.nn.init import kaiming_uniform_\n",
        "from torch.nn.init import xavier_uniform_\n",
        "from sklearn.preprocessing import MinMaxScaler\n",
        "from sklearn.decomposition import PCA\n",
        "from sklearn.metrics import recall_score, f1_score, precision_score, mean_absolute_error, mean_squared_error, r2_score\n",
        "# nltk.download('punkt')"
      ],
      "execution_count": 154,
      "outputs": []
    },
    {
      "cell_type": "markdown",
      "metadata": {
        "id": "DL7n3PVP_0Kl"
      },
      "source": [
        "### Setting Parameters"
      ]
    },
    {
      "cell_type": "code",
      "metadata": {
        "id": "SCzaRwAj_5mA"
      },
      "source": [
        "data_folder = '/content/drive/MyDrive/Colab Notebooks/DL-Project/'\n",
        "save_path = '/content/drive/MyDrive/Colab Notebooks/DL-Project/'\n",
        "\n",
        "epochs = 1\n",
        "batch_size = 16\n",
        "learning_rate = 1e-6\n",
        "\n",
        "validation_ratio = 0.2\n",
        "\n",
        "max_length = 128\n",
        "max_sentence_length = 64"
      ],
      "execution_count": null,
      "outputs": []
    },
    {
      "cell_type": "markdown",
      "metadata": {
        "id": "xNlHSZJN_-lR"
      },
      "source": [
        "### Setting device, random seed, and runtime parameters"
      ]
    },
    {
      "cell_type": "code",
      "metadata": {
        "colab": {
          "base_uri": "https://localhost:8080/"
        },
        "id": "h-DQtNqcAHPC",
        "outputId": "92c83ac6-d9bc-440f-ef6d-76a5e430946f"
      },
      "source": [
        "device = torch.device('cuda' if torch.cuda.is_available() else 'cpu')\n",
        "print(\"Cuda available: \",torch.cuda.is_available())\n",
        "if torch.cuda.is_available():\n",
        "    print(\"Current device: \",  torch.cuda.current_device())\n",
        "\n",
        "seed = 204920\n",
        "seed2 = 293652\n",
        "\n",
        "random.seed(seed2)\n",
        "np.random.seed(seed2)\n",
        "torch.manual_seed(seed2)\n",
        "\n",
        "if device.type == 'cuda':\n",
        "    torch.cuda.manual_seed_all(seed)"
      ],
      "execution_count": null,
      "outputs": [
        {
          "output_type": "stream",
          "text": [
            "Cuda available:  True\n",
            "Current device:  0\n"
          ],
          "name": "stdout"
        }
      ]
    },
    {
      "cell_type": "markdown",
      "metadata": {
        "id": "sRwiF8MRC7Qm"
      },
      "source": [
        "# 2. Reading the Dataset"
      ]
    },
    {
      "cell_type": "code",
      "metadata": {
        "colab": {
          "base_uri": "https://localhost:8080/"
        },
        "id": "TaNTibrAtpHk",
        "outputId": "6b04f6ae-2c4b-4847-e027-1b83bd862aeb"
      },
      "source": [
        "from google.colab import drive\n",
        "drive.mount('/content/drive')"
      ],
      "execution_count": null,
      "outputs": [
        {
          "output_type": "stream",
          "text": [
            "Mounted at /content/drive\n"
          ],
          "name": "stdout"
        }
      ]
    },
    {
      "cell_type": "code",
      "metadata": {
        "colab": {
          "base_uri": "https://localhost:8080/"
        },
        "id": "IPaNoawre29O",
        "outputId": "082b42ed-3cb2-4fa6-d717-83cbb108a777"
      },
      "source": [
        "from sklearn.preprocessing import LabelEncoder as le\n",
        "!cp  \"/content/drive/MyDrive/Colab Notebooks/DL-Project/Combined.xlsx\" Combined.xlsx\n",
        "!cp  \"/content/drive/MyDrive/Colab Notebooks/DL-Project/acaps_covid19_government_measures_dataset_0.xlsx\" acaps_covid19_government_measures_dataset_0.xlsx\n",
        "\n",
        "xl_file = pd.ExcelFile('acaps_covid19_government_measures_dataset_0.xlsx')\n",
        "\n",
        "sheets = {sheet_name: xl_file.parse(sheet_name) \n",
        "          for sheet_name in xl_file.sheet_names}\n",
        "\n",
        "dataframe = sheets['Dataset']\n",
        "\n",
        "print('Sheets in the dataset:   ', sheets.keys())\n",
        "print('Number of regulations in the dataset: ', len(dataframe), '\\n')\n",
        "\n",
        "print(dataframe.head())\n",
        "print('\\n', dataframe.info(), '\\n')\n",
        "\n",
        "# print(list(dataframe['ID'][0:10]))\n",
        "# print(dataframe.iloc[0])\n",
        "\n",
        "dataset = {}\n",
        "for key in dataframe:\n",
        "    # dataframe[key] = le.fit_transform(dataframe[key].astype(str))\n",
        "    dataframe[key]=dataframe[key].astype('str')\n",
        "    dataset[key] = list(dataframe[key])\n"
      ],
      "execution_count": 118,
      "outputs": [
        {
          "output_type": "stream",
          "text": [
            "Sheets in the dataset:    dict_keys(['About', 'Dataset', 'Dictionary'])\n",
            "Number of regulations in the dataset:  23923 \n",
            "\n",
            "     ID  ISO  ... ENTRY_DATE Alternative source\n",
            "0  7560  CHE  ... 2020-04-25                NaN\n",
            "1  7561  CHE  ... 2020-04-25                NaN\n",
            "2  7562  CHE  ... 2020-04-25                NaN\n",
            "3  7555  CHE  ... 2020-04-25                NaN\n",
            "4  7556  CHE  ... 2020-04-25                NaN\n",
            "\n",
            "[5 rows x 18 columns]\n",
            "<class 'pandas.core.frame.DataFrame'>\n",
            "RangeIndex: 23923 entries, 0 to 23922\n",
            "Data columns (total 18 columns):\n",
            " #   Column              Non-Null Count  Dtype         \n",
            "---  ------              --------------  -----         \n",
            " 0   ID                  23923 non-null  int64         \n",
            " 1   ISO                 23923 non-null  object        \n",
            " 2   COUNTRY             23923 non-null  object        \n",
            " 3   REGION              23923 non-null  object        \n",
            " 4   ADMIN_LEVEL_NAME    3682 non-null   object        \n",
            " 5   PCODE               0 non-null      float64       \n",
            " 6   LOG_TYPE            23923 non-null  object        \n",
            " 7   CATEGORY            23923 non-null  object        \n",
            " 8   MEASURE             23923 non-null  object        \n",
            " 9   TARGETED_POP_GROUP  7556 non-null   object        \n",
            " 10  COMMENTS            23799 non-null  object        \n",
            " 11  NON_COMPLIANCE      22764 non-null  object        \n",
            " 12  DATE_IMPLEMENTED    23630 non-null  datetime64[ns]\n",
            " 13  SOURCE              23900 non-null  object        \n",
            " 14  SOURCE_TYPE         23912 non-null  object        \n",
            " 15  LINK                23890 non-null  object        \n",
            " 16  ENTRY_DATE          23923 non-null  datetime64[ns]\n",
            " 17  Alternative source  1779 non-null   object        \n",
            "dtypes: datetime64[ns](2), float64(1), int64(1), object(14)\n",
            "memory usage: 3.3+ MB\n",
            "\n",
            " None \n",
            "\n"
          ],
          "name": "stdout"
        }
      ]
    },
    {
      "cell_type": "markdown",
      "metadata": {
        "id": "_mng1lN_HLLr"
      },
      "source": [
        "# 3. Processing the dataset"
      ]
    },
    {
      "cell_type": "markdown",
      "metadata": {
        "id": "3-6bU1Md9LFC"
      },
      "source": [
        "### Some statistics of the dataset"
      ]
    },
    {
      "cell_type": "code",
      "metadata": {
        "colab": {
          "base_uri": "https://localhost:8080/"
        },
        "id": "aeJ4idtBHU-a",
        "outputId": "7fdcf81c-4400-4f0f-f653-3cf54d41e503"
      },
      "source": [
        "def get_frequency_stat(attr):\n",
        "\n",
        "    freq_dic = {}\n",
        "    for value in dataset[attr]:\n",
        "        if value in freq_dic:\n",
        "            freq_dic[value] += 1\n",
        "        else:\n",
        "            freq_dic[value] = 1\n",
        "    \n",
        "    values = []\n",
        "    freqs = []\n",
        "\n",
        "    for key in freq_dic:\n",
        "        values.append(key)\n",
        "        freqs.append(freq_dic[key])\n",
        "\n",
        "    freqs, values = (list(t) for t in zip(*sorted(zip(freqs, values))))\n",
        "    freqs, values = freqs[::-1], values[::-1]\n",
        "    sumf = sum(freqs)\n",
        "\n",
        "    print('\\nFrequency Stat of ', attr)\n",
        "    print('Number of different values: ', len(values), '\\n')\n",
        "\n",
        "    for i in range(min(len(values), 10)):\n",
        "        print(values[i], ': %', 100 * freqs[i] / sumf)\n",
        "\n",
        "\n",
        "# print(dataframe['SOURCE'].value_counts())\n",
        "for key in dataset:\n",
        "    get_frequency_stat(key)\n"
      ],
      "execution_count": 119,
      "outputs": [
        {
          "output_type": "stream",
          "text": [
            "\n",
            "Frequency Stat of  ID\n",
            "Number of different values:  23923 \n",
            "\n",
            "9999 : % 0.00418007774944614\n",
            "9998 : % 0.00418007774944614\n",
            "9997 : % 0.00418007774944614\n",
            "9996 : % 0.00418007774944614\n",
            "9995 : % 0.00418007774944614\n",
            "9994 : % 0.00418007774944614\n",
            "9993 : % 0.00418007774944614\n",
            "9992 : % 0.00418007774944614\n",
            "9991 : % 0.00418007774944614\n",
            "9990 : % 0.00418007774944614\n",
            "\n",
            "Frequency Stat of  ISO\n",
            "Number of different values:  193 \n",
            "\n",
            "GBR : % 2.7379509258872217\n",
            "AUS : % 2.3157630731931613\n",
            "USA : % 2.03569786398027\n",
            "PHL : % 1.910295531496886\n",
            "DNK : % 1.5006479120511642\n",
            "CAN : % 1.379425657317226\n",
            "NZL : % 1.2665635580821804\n",
            "LKA : % 1.2665635580821804\n",
            "PRT : % 1.228942858337165\n",
            "MYS : % 1.2164026250888267\n",
            "\n",
            "Frequency Stat of  COUNTRY\n",
            "Number of different values:  193 \n",
            "\n",
            "United Kingdom : % 2.7379509258872217\n",
            "Australia : % 2.3157630731931613\n",
            "United States : % 2.03569786398027\n",
            "Philippines : % 1.910295531496886\n",
            "Denmark : % 1.5006479120511642\n",
            "Canada : % 1.379425657317226\n",
            "Sri Lanka : % 1.2665635580821804\n",
            "New Zealand : % 1.2665635580821804\n",
            "Portugal : % 1.228942858337165\n",
            "Malaysia : % 1.2164026250888267\n",
            "\n",
            "Frequency Stat of  REGION\n",
            "Number of different values:  6 \n",
            "\n",
            "Europe : % 32.03193579400577\n",
            "Americas : % 20.883668436232913\n",
            "Africa : % 16.737031308782342\n",
            "Asia : % 14.613551812063704\n",
            "Pacific : % 8.431216820632864\n",
            "Middle east : % 7.302595828282406\n",
            "\n",
            "Frequency Stat of  ADMIN_LEVEL_NAME\n",
            "Number of different values:  1332 \n",
            "\n",
            "nan : % 84.60895372653931\n",
            "Scotland : % 0.5726706516741211\n",
            "Wales : % 0.42636793044350624\n",
            "Northern Ireland : % 0.3929273084479371\n",
            "Vic : % 0.3260460644567989\n",
            "FBiH : % 0.3176859089579066\n",
            "Faroe Islands : % 0.21318396522175312\n",
            "England : % 0.2006437319734147\n",
            "Flanders : % 0.19228357647452243\n",
            "Tas : % 0.13376248798227647\n",
            "\n",
            "Frequency Stat of  PCODE\n",
            "Number of different values:  1 \n",
            "\n",
            "nan : % 100.0\n",
            "\n",
            "Frequency Stat of  LOG_TYPE\n",
            "Number of different values:  2 \n",
            "\n",
            "Introduction / extension of measures : % 81.2816118379802\n",
            "Phase-out measure : % 18.718388162019814\n",
            "\n",
            "Frequency Stat of  CATEGORY\n",
            "Number of different values:  6 \n",
            "\n",
            "Public health measures : % 33.248338419094594\n",
            "Social distancing : % 23.157630731931615\n",
            "Movement restrictions : % 21.565021109392635\n",
            "Governance and socio-economic measures : % 18.241859298582952\n",
            "Lockdown : % 3.6659281862642645\n",
            "Humanitarian exemption : % 0.12122225473393805\n",
            "\n",
            "Frequency Stat of  MEASURE\n",
            "Number of different values:  35 \n",
            "\n",
            "Economic measures : % 12.456631693349497\n",
            "Closure of businesses and public services : % 9.60581866822723\n",
            "Limit public gatherings : % 9.317393303515445\n",
            "Strengthening the public health system : % 7.733143836475358\n",
            "Isolation and quarantine policies : % 5.726706516741212\n",
            "Domestic travel restrictions : % 4.25531914893617\n",
            "General recommendations : % 3.9125527734815866\n",
            "Border closure : % 3.7453496635037413\n",
            "Other public health measures enforced : % 3.7369895080048487\n",
            "Schools closure : % 3.64920787526648\n",
            "\n",
            "Frequency Stat of  TARGETED_POP_GROUP\n",
            "Number of different values:  2 \n",
            "\n",
            "nan : % 68.41533252518497\n",
            "checked : % 31.58466747481503\n",
            "\n",
            "Frequency Stat of  COMMENTS\n",
            "Number of different values:  23288 \n",
            "\n",
            "nan : % 0.5183296409313213\n",
            "APEC economies agree to keep markets open and trade flowing : % 0.07942147723947665\n",
            "Pacific Islands Forum Leaders have invoked the Biketawa Declaration, to collectively respond to the COVID-19 pandemic as a major crisis to The Blue Pacific â€“ its peoples, wellbeing and economies.\n",
            "\n",
            "The Pacific Humanitarian Pathway on COVID-19 (PHP-C), under the Biketawa Declaration is the Regionâ€™s mechanism that will provide the enabling political environment and commitment to expedite assistance and cooperation between member countries in preparing for and responding to COVID-19, by enabling the provision of medical and humanitarian assistance from regional, international and development partners in a timely, safe, effective and equitable manner. : % 0.05852108849224596\n",
            "Joint Ministerial Statement affirming commitment to ensuring supply chain connectivity amidst the COVID-19 situation : % 0.03762069974501526\n",
            "Travel to and from this area is temporarily prohibited for the next 24 hours until further notice. : % 0.0209003887472307\n",
            "The leaders of Palau, Marshall Islands, Nauru, Kiribati, and the Federated States of Micronesia are working together to hold the 2020 Micronesian Presidentsâ€™ Summit, which will be the largest in-person meeting of Pacific leaders since the beginning of the COVID-19 pandemic. \n",
            "\n",
            "the leaders plan to take advantage of their COVID-19 free status, turning the event into a key forum for shared regional priorities including rapidly expanding debt-stress, leadership of the Pacific Islands Forum, and the possibility of regional travel-bubbles. : % 0.0209003887472307\n",
            "State of emergency declared : % 0.0209003887472307\n",
            "Sanitation and hygiene recommendations : % 0.0209003887472307\n",
            "PACER Plus ratified and will enter into force on 13 December 2020. Pacer Plus is a regional trade, development and economic cooperation agreement between Pacific Island Countries and Australia and New Zealand covering trade in goods, services and investment. : % 0.0209003887472307\n",
            "Economic support for cultural institutions : % 0.0209003887472307\n",
            "\n",
            "Frequency Stat of  NON_COMPLIANCE\n",
            "Number of different values:  21 \n",
            "\n",
            "Not applicable : % 55.41111064665803\n",
            "Not available  : % 14.003260460644569\n",
            "Not Available : % 7.436358316264682\n",
            "Not Applicable : % 7.139572796054007\n",
            "nan : % 4.844710111608076\n",
            "Fines : % 3.1266981565857126\n",
            "Refusal to Enter the Country : % 1.8057935877607323\n",
            "Up to detention : % 1.7305521882707018\n",
            "Other (add in comments) : % 1.4337666680600258\n",
            "Arrest/Detention : % 0.9823182711198428\n",
            "\n",
            "Frequency Stat of  DATE_IMPLEMENTED\n",
            "Number of different values:  353 \n",
            "\n",
            "2020-03-16 : % 1.4295865903105798\n",
            "2020-05-11 : % 1.404506123813903\n",
            "NaT : % 1.224762780587719\n",
            "2020-03-20 : % 1.1787819253438114\n",
            "2020-06-01 : % 1.166241692095473\n",
            "2020-05-18 : % 1.1286209923504578\n",
            "2020-05-04 : % 1.1244409146010115\n",
            "2020-03-18 : % 1.0700999038582117\n",
            "2020-06-15 : % 1.015758893115412\n",
            "2020-03-23 : % 1.0032186598670736\n",
            "\n",
            "Frequency Stat of  SOURCE\n",
            "Number of different values:  1920 \n",
            "\n",
            "Government : % 5.480081929523889\n",
            "GardaWorld : % 2.9176942691134053\n",
            "Garda World : % 2.8758934916189443\n",
            "US Embassy : % 2.658529448647745\n",
            "RNZ : % 2.600008360155499\n",
            "Ministry of Health : % 2.361743928437069\n",
            "International SOS : % 1.8977552982485475\n",
            "MoH : % 1.5090080675500563\n",
            "US Embassy  : % 1.4128662793127953\n",
            "Government Website : % 1.4128662793127953\n",
            "\n",
            "Frequency Stat of  SOURCE_TYPE\n",
            "Number of different values:  11 \n",
            "\n",
            "Government : % 65.30953475734648\n",
            "Media : % 23.747021694603518\n",
            "Other organisations : % 6.111273669690256\n",
            "Social media : % 2.1945408184592234\n",
            "Other Organisations : % 1.7723529657651633\n",
            "UN : % 0.44726831919073695\n",
            "Social Media : % 0.1254023324833842\n",
            "Other : % 0.1254023324833842\n",
            "media : % 0.09614178823726122\n",
            "nan : % 0.045980855243907534\n",
            "\n",
            "Frequency Stat of  LINK\n",
            "Number of different values:  13306 \n",
            "\n",
            "https://pandemic.internationalsos.com/2019-ncov/ncov-travel-restrictions-flight-operations-and-screening#MYS : % 1.8016135100112862\n",
            "https://pib.gov.in/PressReleseDetail.aspx?PRID=1607242 : % 0.3803870751995987\n",
            "https://www.deutschland.de/en/news/german-federal-government-informs-about-the-corona-crisis : % 0.27170505371399906\n",
            "https://pandemic.internationalsos.com/2019-ncov/ncov-travel-restrictions-flight-operations-and-screening : % 0.27170505371399906\n",
            "https://www.imf.org/en/Topics/imf-and-covid19/Policy-Responses-to-COVID-19 : % 0.23408435396898383\n",
            "https://hr.usembassy.gov/covid-19-information-2/ : % 0.20482380972286085\n",
            "https://jo.usembassy.gov/covid-19-information/ : % 0.18392342097563014\n",
            "https://iq.usembassy.gov/covid-19-information/ : % 0.17138318772729172\n",
            "https://ga.usembassy.gov/u-s-citizen-services/coronavirus-update/ : % 0.14630272123061488\n",
            "https://cy.usembassy.gov/covid-19-information/ : % 0.14630272123061488\n",
            "\n",
            "Frequency Stat of  ENTRY_DATE\n",
            "Number of different values:  237 \n",
            "\n",
            "2020-04-21 : % 2.056598252727501\n",
            "2020-04-17 : % 1.5508088450445179\n",
            "2020-03-23 : % 1.5340885340467332\n",
            "2020-05-12 : % 1.3836057350666722\n",
            "2020-03-24 : % 1.3627053463194416\n",
            "2020-03-16 : % 1.3083643355766417\n",
            "2020-03-25 : % 1.2665635580821804\n",
            "2020-03-20 : % 1.254023324833842\n",
            "2020-05-11 : % 1.2373030138360575\n",
            "2020-04-14 : % 1.2331229360866112\n",
            "\n",
            "Frequency Stat of  Alternative source\n",
            "Number of different values:  1278 \n",
            "\n",
            "nan : % 92.56364168373531\n",
            "https://www.liberianobserver.com/news/covid-19-in-liberia-govt-declares-national-health-emergency/ : % 0.0627011662416921\n",
            "https://www.angop.ao/angola/en_us/noticias/politica/2020/4/19/President-extends-state-emergency,6fa62485-4c62-4bbc-8759-2d098a2846dc.html : % 0.05434101074279982\n",
            "https://pandemic.internationalsos.com/2019-ncov/ncov-travel-restrictions-flight-operations-and-screening#MYS : % 0.050160932993353675\n",
            "https://www.mhlw.go.jp/stf/seisakunitsuite/bunya/newpage_00032.html : % 0.03762069974501526\n",
            "https://www.gabonmediatime.com/covid-19-lintegralite-de-lallocution-du-premier-ministre-sur-la-mise-en-oeuvre-des-mesures-daccompagnement/ : % 0.03762069974501526\n",
            "https://twitter.com/PrimatureRwanda/status/1273030174800519170 : % 0.03762069974501526\n",
            "https://www.stopcoronavirusrdc.info/mesures-de-protection-contre-le-coronavirus : % 0.03344062199556912\n",
            "https://www.boliviasegura.gob.bo/ : % 0.03344062199556912\n",
            "https://covid19.min-saude.pt/wp-content/uploads/2020/03/Plano-de-Conting%C3%AAncia-Novo-Coronavirus_Covid-19.pdf : % 0.03344062199556912\n"
          ],
          "name": "stdout"
        }
      ]
    },
    {
      "cell_type": "markdown",
      "metadata": {
        "id": "-Ht8fiHA9VS-"
      },
      "source": [
        "### Classifying regulations based on Measure and Category"
      ]
    },
    {
      "cell_type": "code",
      "metadata": {
        "colab": {
          "base_uri": "https://localhost:8080/"
        },
        "id": "PNPFkhjy9lQr",
        "outputId": "2760a847-0460-47c9-a395-0f48c2b1c628"
      },
      "source": [
        "regulation_types = {}\n",
        "\n",
        "for i in range(len(dataset['ID'])):\n",
        "\n",
        "    category = dataset['CATEGORY'][i]\n",
        "    measure = dataset['MEASURE'][i]\n",
        "\n",
        "    if category not in regulation_types:\n",
        "        regulation_types[category] = {}\n",
        "    \n",
        "    if measure not in regulation_types[category]:\n",
        "        regulation_types[category][measure] = []\n",
        "    \n",
        "    regulation_types[category][measure].append(i)\n",
        "\n",
        "for category in regulation_types:\n",
        "\n",
        "    print(len(regulation_types[category]))\n",
        "    \n",
        "    for measure in regulation_types[category]:\n",
        "        print('CATEGORY: ', category, ' MEASURE: ', measure, ' %',\n",
        "              100 * len(regulation_types[category][measure]) / len(dataset['ID']) )\n"
      ],
      "execution_count": 120,
      "outputs": [
        {
          "output_type": "stream",
          "text": [
            "5\n",
            "CATEGORY:  Governance and socio-economic measures  MEASURE:  Economic measures  % 12.456631693349497\n",
            "CATEGORY:  Governance and socio-economic measures  MEASURE:  Military deployment  % 0.46816870793796767\n",
            "CATEGORY:  Governance and socio-economic measures  MEASURE:  State of emergency declared  % 1.9646365422396856\n",
            "CATEGORY:  Governance and socio-economic measures  MEASURE:  Emergency administrative structures activated or established  % 3.0639969903440205\n",
            "CATEGORY:  Governance and socio-economic measures  MEASURE:  Limit product imports/exports  % 0.28842536471178365\n",
            "12\n",
            "CATEGORY:  Public health measures  MEASURE:  Testing policy  % 2.5038665719182376\n",
            "CATEGORY:  Public health measures  MEASURE:  Psychological assistance and medical social work  % 0.597751118170798\n",
            "CATEGORY:  Public health measures  MEASURE:  Isolation and quarantine policies  % 5.726706516741212\n",
            "CATEGORY:  Public health measures  MEASURE:  Requirement to wear protective gear in public  % 2.98875559085399\n",
            "CATEGORY:  Public health measures  MEASURE:  Mass population testing  % 0.5893909626719057\n",
            "CATEGORY:  Public health measures  MEASURE:  General recommendations  % 3.9125527734815866\n",
            "CATEGORY:  Public health measures  MEASURE:  Strengthening the public health system  % 7.733143836475358\n",
            "CATEGORY:  Public health measures  MEASURE:  Awareness campaigns  % 3.260460644567989\n",
            "CATEGORY:  Public health measures  MEASURE:  Other public health measures enforced  % 3.7369895080048487\n",
            "CATEGORY:  Public health measures  MEASURE:  Health screenings in airports and border crossings  % 1.617690089035656\n",
            "CATEGORY:  Public health measures  MEASURE:  Amendments to funeral and burial regulations  % 0.568490573924675\n",
            "CATEGORY:  Public health measures  MEASURE:  Obligatory medical tests not related to COVID-19  % 0.012540233248338419\n",
            "10\n",
            "CATEGORY:  Movement restrictions  MEASURE:  Domestic travel restrictions  % 4.25531914893617\n",
            "CATEGORY:  Movement restrictions  MEASURE:  Border closure  % 3.7453496635037413\n",
            "CATEGORY:  Movement restrictions  MEASURE:  Curfews  % 3.268820800066881\n",
            "CATEGORY:  Movement restrictions  MEASURE:  International flights suspension  % 3.143418467583497\n",
            "CATEGORY:  Movement restrictions  MEASURE:  Surveillance and monitoring  % 2.332483384190946\n",
            "CATEGORY:  Movement restrictions  MEASURE:  Checkpoints within the country  % 0.28842536471178365\n",
            "CATEGORY:  Movement restrictions  MEASURE:  Visa restrictions  % 2.4411654056765455\n",
            "CATEGORY:  Movement restrictions  MEASURE:  Additional health/documents requirements upon arrival  % 1.61351001128621\n",
            "CATEGORY:  Movement restrictions  MEASURE:  Border checks  % 0.44308824144129083\n",
            "CATEGORY:  Movement restrictions  MEASURE:  Complete border closure  % 0.03344062199556912\n",
            "4\n",
            "CATEGORY:  Social distancing  MEASURE:  Closure of businesses and public services  % 9.60581866822723\n",
            "CATEGORY:  Social distancing  MEASURE:  Limit public gatherings  % 9.317393303515445\n",
            "CATEGORY:  Social distancing  MEASURE:  Schools closure  % 3.64920787526648\n",
            "CATEGORY:  Social distancing  MEASURE:  Changes in prison-related policies  % 0.5852108849224595\n",
            "3\n",
            "CATEGORY:  Lockdown  MEASURE:  Partial lockdown  % 2.9385946578606363\n",
            "CATEGORY:  Lockdown  MEASURE:  Full lockdown  % 0.6228315846674748\n",
            "CATEGORY:  Lockdown  MEASURE:  Lockdown of refugee/idp camps or other minorities  % 0.1045019437361535\n",
            "1\n",
            "CATEGORY:  Humanitarian exemption  MEASURE:  Humanitarian exemptions  % 0.12122225473393805\n"
          ],
          "name": "stdout"
        }
      ]
    },
    {
      "cell_type": "markdown",
      "metadata": {
        "id": "fU2TB0dIac4m"
      },
      "source": [
        "# 4. Comment embeddings from DeBerta model"
      ]
    },
    {
      "cell_type": "markdown",
      "metadata": {
        "id": "atc_6HJhac4m"
      },
      "source": [
        "### Loading Comments"
      ]
    },
    {
      "cell_type": "code",
      "metadata": {
        "colab": {
          "base_uri": "https://localhost:8080/"
        },
        "id": "YPM9lAl3ac4m",
        "outputId": "2a451411-f254-43f6-c3b0-48cf43dec368"
      },
      "source": [
        "xl_file = pd.ExcelFile(\"acaps_covid19_government_measures_dataset_0.xlsx\")\n",
        "\n",
        "dfs = {sheet_name: xl_file.parse(sheet_name) \n",
        "          for sheet_name in xl_file.sheet_names}\n",
        "\n",
        "\n",
        "dataset = dfs['Dataset']\n",
        "\n",
        "# using ids list you can find the id of each comment\n",
        "not_null_ids = list(dataset.loc[dataset['COMMENTS'].notna()][\"ID\"])\n",
        "\n",
        "# the list contating all not nan comments\n",
        "comments = list(dataset.loc[dataset['COMMENTS'].notna()][\"COMMENTS\"])\n",
        "\n",
        "print(f'number of relugations that the their comment is not null {len(comments)}')"
      ],
      "execution_count": 121,
      "outputs": [
        {
          "output_type": "stream",
          "text": [
            "number of relugations that the their comment is not null 23799\n"
          ],
          "name": "stdout"
        }
      ]
    },
    {
      "cell_type": "markdown",
      "metadata": {
        "id": "CZ6aqRdgac4n"
      },
      "source": [
        "### Tokenizing"
      ]
    },
    {
      "cell_type": "code",
      "metadata": {
        "id": "MzP53Wzsac4o"
      },
      "source": [
        "tokenizer = transformers.DebertaTokenizer.from_pretrained('microsoft/deberta-base') \n",
        "max_length = 64\n",
        "train_encodings = tokenizer(comments, add_special_tokens=True, return_token_type_ids=False, truncation=True, padding=True, max_length=max_length)"
      ],
      "execution_count": 122,
      "outputs": []
    },
    {
      "cell_type": "markdown",
      "metadata": {
        "id": "7G5kUUQWac4p"
      },
      "source": [
        "### Creating pytorch Dataset"
      ]
    },
    {
      "cell_type": "code",
      "metadata": {
        "id": "crdsqJosac4p"
      },
      "source": [
        "class NSPDataset(torch.utils.data.Dataset):\n",
        "    def __init__(self, encodings):\n",
        "        self.encodings = encodings\n",
        "#         self.labels = labels\n",
        "\n",
        "    def __getitem__(self, idx):\n",
        "        item = {key: torch.tensor(val[idx]) for key, val in self.encodings.items()}\n",
        "#         if self.labels != None:\n",
        "#           item['labels'] = torch.tensor(self.labels[idx])\n",
        "        return item\n",
        "\n",
        "    def __len__(self):\n",
        "        # return len(self.labels)\n",
        "        return len(self.encodings['input_ids'])"
      ],
      "execution_count": 123,
      "outputs": []
    },
    {
      "cell_type": "code",
      "metadata": {
        "id": "Fvcs4q22ac4q"
      },
      "source": [
        "train_dataset = NSPDataset(train_encodings)\n",
        "train_loader = DataLoader(train_dataset, batch_size=32, shuffle=False)"
      ],
      "execution_count": 124,
      "outputs": []
    },
    {
      "cell_type": "markdown",
      "metadata": {
        "id": "06zqtx-rac4q"
      },
      "source": [
        "### Creating DeBerta Model"
      ]
    },
    {
      "cell_type": "code",
      "metadata": {
        "colab": {
          "base_uri": "https://localhost:8080/"
        },
        "id": "bKOTYuVwac4q",
        "outputId": "cd8ffeb9-4898-4e1c-9843-ca4f7aa938d8"
      },
      "source": [
        "device = torch.device(\"cuda:0\" if torch.cuda.is_available() else \"cpu\")\n",
        "\n",
        "model = transformers.DebertaModel.from_pretrained('microsoft/deberta-base')\n",
        "\n",
        "\n",
        "if torch.cuda.device_count() > 1:\n",
        "#   print(\"Let's use\", torch.cuda.device_count(), \"GPUs!\")\n",
        "  model = torch.nn.DataParallel(model)\n",
        "    \n",
        "model.to(device)\n",
        "model.train()"
      ],
      "execution_count": 125,
      "outputs": [
        {
          "output_type": "execute_result",
          "data": {
            "text/plain": [
              "DebertaModel(\n",
              "  (embeddings): DebertaEmbeddings(\n",
              "    (word_embeddings): Embedding(50265, 768, padding_idx=0)\n",
              "    (LayerNorm): DebertaLayerNorm()\n",
              "    (dropout): StableDropout()\n",
              "  )\n",
              "  (encoder): DebertaEncoder(\n",
              "    (layer): ModuleList(\n",
              "      (0): DebertaLayer(\n",
              "        (attention): DebertaAttention(\n",
              "          (self): DisentangledSelfAttention(\n",
              "            (in_proj): Linear(in_features=768, out_features=2304, bias=False)\n",
              "            (pos_dropout): StableDropout()\n",
              "            (pos_proj): Linear(in_features=768, out_features=768, bias=False)\n",
              "            (pos_q_proj): Linear(in_features=768, out_features=768, bias=True)\n",
              "            (dropout): StableDropout()\n",
              "          )\n",
              "          (output): DebertaSelfOutput(\n",
              "            (dense): Linear(in_features=768, out_features=768, bias=True)\n",
              "            (LayerNorm): DebertaLayerNorm()\n",
              "            (dropout): StableDropout()\n",
              "          )\n",
              "        )\n",
              "        (intermediate): DebertaIntermediate(\n",
              "          (dense): Linear(in_features=768, out_features=3072, bias=True)\n",
              "        )\n",
              "        (output): DebertaOutput(\n",
              "          (dense): Linear(in_features=3072, out_features=768, bias=True)\n",
              "          (LayerNorm): DebertaLayerNorm()\n",
              "          (dropout): StableDropout()\n",
              "        )\n",
              "      )\n",
              "      (1): DebertaLayer(\n",
              "        (attention): DebertaAttention(\n",
              "          (self): DisentangledSelfAttention(\n",
              "            (in_proj): Linear(in_features=768, out_features=2304, bias=False)\n",
              "            (pos_dropout): StableDropout()\n",
              "            (pos_proj): Linear(in_features=768, out_features=768, bias=False)\n",
              "            (pos_q_proj): Linear(in_features=768, out_features=768, bias=True)\n",
              "            (dropout): StableDropout()\n",
              "          )\n",
              "          (output): DebertaSelfOutput(\n",
              "            (dense): Linear(in_features=768, out_features=768, bias=True)\n",
              "            (LayerNorm): DebertaLayerNorm()\n",
              "            (dropout): StableDropout()\n",
              "          )\n",
              "        )\n",
              "        (intermediate): DebertaIntermediate(\n",
              "          (dense): Linear(in_features=768, out_features=3072, bias=True)\n",
              "        )\n",
              "        (output): DebertaOutput(\n",
              "          (dense): Linear(in_features=3072, out_features=768, bias=True)\n",
              "          (LayerNorm): DebertaLayerNorm()\n",
              "          (dropout): StableDropout()\n",
              "        )\n",
              "      )\n",
              "      (2): DebertaLayer(\n",
              "        (attention): DebertaAttention(\n",
              "          (self): DisentangledSelfAttention(\n",
              "            (in_proj): Linear(in_features=768, out_features=2304, bias=False)\n",
              "            (pos_dropout): StableDropout()\n",
              "            (pos_proj): Linear(in_features=768, out_features=768, bias=False)\n",
              "            (pos_q_proj): Linear(in_features=768, out_features=768, bias=True)\n",
              "            (dropout): StableDropout()\n",
              "          )\n",
              "          (output): DebertaSelfOutput(\n",
              "            (dense): Linear(in_features=768, out_features=768, bias=True)\n",
              "            (LayerNorm): DebertaLayerNorm()\n",
              "            (dropout): StableDropout()\n",
              "          )\n",
              "        )\n",
              "        (intermediate): DebertaIntermediate(\n",
              "          (dense): Linear(in_features=768, out_features=3072, bias=True)\n",
              "        )\n",
              "        (output): DebertaOutput(\n",
              "          (dense): Linear(in_features=3072, out_features=768, bias=True)\n",
              "          (LayerNorm): DebertaLayerNorm()\n",
              "          (dropout): StableDropout()\n",
              "        )\n",
              "      )\n",
              "      (3): DebertaLayer(\n",
              "        (attention): DebertaAttention(\n",
              "          (self): DisentangledSelfAttention(\n",
              "            (in_proj): Linear(in_features=768, out_features=2304, bias=False)\n",
              "            (pos_dropout): StableDropout()\n",
              "            (pos_proj): Linear(in_features=768, out_features=768, bias=False)\n",
              "            (pos_q_proj): Linear(in_features=768, out_features=768, bias=True)\n",
              "            (dropout): StableDropout()\n",
              "          )\n",
              "          (output): DebertaSelfOutput(\n",
              "            (dense): Linear(in_features=768, out_features=768, bias=True)\n",
              "            (LayerNorm): DebertaLayerNorm()\n",
              "            (dropout): StableDropout()\n",
              "          )\n",
              "        )\n",
              "        (intermediate): DebertaIntermediate(\n",
              "          (dense): Linear(in_features=768, out_features=3072, bias=True)\n",
              "        )\n",
              "        (output): DebertaOutput(\n",
              "          (dense): Linear(in_features=3072, out_features=768, bias=True)\n",
              "          (LayerNorm): DebertaLayerNorm()\n",
              "          (dropout): StableDropout()\n",
              "        )\n",
              "      )\n",
              "      (4): DebertaLayer(\n",
              "        (attention): DebertaAttention(\n",
              "          (self): DisentangledSelfAttention(\n",
              "            (in_proj): Linear(in_features=768, out_features=2304, bias=False)\n",
              "            (pos_dropout): StableDropout()\n",
              "            (pos_proj): Linear(in_features=768, out_features=768, bias=False)\n",
              "            (pos_q_proj): Linear(in_features=768, out_features=768, bias=True)\n",
              "            (dropout): StableDropout()\n",
              "          )\n",
              "          (output): DebertaSelfOutput(\n",
              "            (dense): Linear(in_features=768, out_features=768, bias=True)\n",
              "            (LayerNorm): DebertaLayerNorm()\n",
              "            (dropout): StableDropout()\n",
              "          )\n",
              "        )\n",
              "        (intermediate): DebertaIntermediate(\n",
              "          (dense): Linear(in_features=768, out_features=3072, bias=True)\n",
              "        )\n",
              "        (output): DebertaOutput(\n",
              "          (dense): Linear(in_features=3072, out_features=768, bias=True)\n",
              "          (LayerNorm): DebertaLayerNorm()\n",
              "          (dropout): StableDropout()\n",
              "        )\n",
              "      )\n",
              "      (5): DebertaLayer(\n",
              "        (attention): DebertaAttention(\n",
              "          (self): DisentangledSelfAttention(\n",
              "            (in_proj): Linear(in_features=768, out_features=2304, bias=False)\n",
              "            (pos_dropout): StableDropout()\n",
              "            (pos_proj): Linear(in_features=768, out_features=768, bias=False)\n",
              "            (pos_q_proj): Linear(in_features=768, out_features=768, bias=True)\n",
              "            (dropout): StableDropout()\n",
              "          )\n",
              "          (output): DebertaSelfOutput(\n",
              "            (dense): Linear(in_features=768, out_features=768, bias=True)\n",
              "            (LayerNorm): DebertaLayerNorm()\n",
              "            (dropout): StableDropout()\n",
              "          )\n",
              "        )\n",
              "        (intermediate): DebertaIntermediate(\n",
              "          (dense): Linear(in_features=768, out_features=3072, bias=True)\n",
              "        )\n",
              "        (output): DebertaOutput(\n",
              "          (dense): Linear(in_features=3072, out_features=768, bias=True)\n",
              "          (LayerNorm): DebertaLayerNorm()\n",
              "          (dropout): StableDropout()\n",
              "        )\n",
              "      )\n",
              "      (6): DebertaLayer(\n",
              "        (attention): DebertaAttention(\n",
              "          (self): DisentangledSelfAttention(\n",
              "            (in_proj): Linear(in_features=768, out_features=2304, bias=False)\n",
              "            (pos_dropout): StableDropout()\n",
              "            (pos_proj): Linear(in_features=768, out_features=768, bias=False)\n",
              "            (pos_q_proj): Linear(in_features=768, out_features=768, bias=True)\n",
              "            (dropout): StableDropout()\n",
              "          )\n",
              "          (output): DebertaSelfOutput(\n",
              "            (dense): Linear(in_features=768, out_features=768, bias=True)\n",
              "            (LayerNorm): DebertaLayerNorm()\n",
              "            (dropout): StableDropout()\n",
              "          )\n",
              "        )\n",
              "        (intermediate): DebertaIntermediate(\n",
              "          (dense): Linear(in_features=768, out_features=3072, bias=True)\n",
              "        )\n",
              "        (output): DebertaOutput(\n",
              "          (dense): Linear(in_features=3072, out_features=768, bias=True)\n",
              "          (LayerNorm): DebertaLayerNorm()\n",
              "          (dropout): StableDropout()\n",
              "        )\n",
              "      )\n",
              "      (7): DebertaLayer(\n",
              "        (attention): DebertaAttention(\n",
              "          (self): DisentangledSelfAttention(\n",
              "            (in_proj): Linear(in_features=768, out_features=2304, bias=False)\n",
              "            (pos_dropout): StableDropout()\n",
              "            (pos_proj): Linear(in_features=768, out_features=768, bias=False)\n",
              "            (pos_q_proj): Linear(in_features=768, out_features=768, bias=True)\n",
              "            (dropout): StableDropout()\n",
              "          )\n",
              "          (output): DebertaSelfOutput(\n",
              "            (dense): Linear(in_features=768, out_features=768, bias=True)\n",
              "            (LayerNorm): DebertaLayerNorm()\n",
              "            (dropout): StableDropout()\n",
              "          )\n",
              "        )\n",
              "        (intermediate): DebertaIntermediate(\n",
              "          (dense): Linear(in_features=768, out_features=3072, bias=True)\n",
              "        )\n",
              "        (output): DebertaOutput(\n",
              "          (dense): Linear(in_features=3072, out_features=768, bias=True)\n",
              "          (LayerNorm): DebertaLayerNorm()\n",
              "          (dropout): StableDropout()\n",
              "        )\n",
              "      )\n",
              "      (8): DebertaLayer(\n",
              "        (attention): DebertaAttention(\n",
              "          (self): DisentangledSelfAttention(\n",
              "            (in_proj): Linear(in_features=768, out_features=2304, bias=False)\n",
              "            (pos_dropout): StableDropout()\n",
              "            (pos_proj): Linear(in_features=768, out_features=768, bias=False)\n",
              "            (pos_q_proj): Linear(in_features=768, out_features=768, bias=True)\n",
              "            (dropout): StableDropout()\n",
              "          )\n",
              "          (output): DebertaSelfOutput(\n",
              "            (dense): Linear(in_features=768, out_features=768, bias=True)\n",
              "            (LayerNorm): DebertaLayerNorm()\n",
              "            (dropout): StableDropout()\n",
              "          )\n",
              "        )\n",
              "        (intermediate): DebertaIntermediate(\n",
              "          (dense): Linear(in_features=768, out_features=3072, bias=True)\n",
              "        )\n",
              "        (output): DebertaOutput(\n",
              "          (dense): Linear(in_features=3072, out_features=768, bias=True)\n",
              "          (LayerNorm): DebertaLayerNorm()\n",
              "          (dropout): StableDropout()\n",
              "        )\n",
              "      )\n",
              "      (9): DebertaLayer(\n",
              "        (attention): DebertaAttention(\n",
              "          (self): DisentangledSelfAttention(\n",
              "            (in_proj): Linear(in_features=768, out_features=2304, bias=False)\n",
              "            (pos_dropout): StableDropout()\n",
              "            (pos_proj): Linear(in_features=768, out_features=768, bias=False)\n",
              "            (pos_q_proj): Linear(in_features=768, out_features=768, bias=True)\n",
              "            (dropout): StableDropout()\n",
              "          )\n",
              "          (output): DebertaSelfOutput(\n",
              "            (dense): Linear(in_features=768, out_features=768, bias=True)\n",
              "            (LayerNorm): DebertaLayerNorm()\n",
              "            (dropout): StableDropout()\n",
              "          )\n",
              "        )\n",
              "        (intermediate): DebertaIntermediate(\n",
              "          (dense): Linear(in_features=768, out_features=3072, bias=True)\n",
              "        )\n",
              "        (output): DebertaOutput(\n",
              "          (dense): Linear(in_features=3072, out_features=768, bias=True)\n",
              "          (LayerNorm): DebertaLayerNorm()\n",
              "          (dropout): StableDropout()\n",
              "        )\n",
              "      )\n",
              "      (10): DebertaLayer(\n",
              "        (attention): DebertaAttention(\n",
              "          (self): DisentangledSelfAttention(\n",
              "            (in_proj): Linear(in_features=768, out_features=2304, bias=False)\n",
              "            (pos_dropout): StableDropout()\n",
              "            (pos_proj): Linear(in_features=768, out_features=768, bias=False)\n",
              "            (pos_q_proj): Linear(in_features=768, out_features=768, bias=True)\n",
              "            (dropout): StableDropout()\n",
              "          )\n",
              "          (output): DebertaSelfOutput(\n",
              "            (dense): Linear(in_features=768, out_features=768, bias=True)\n",
              "            (LayerNorm): DebertaLayerNorm()\n",
              "            (dropout): StableDropout()\n",
              "          )\n",
              "        )\n",
              "        (intermediate): DebertaIntermediate(\n",
              "          (dense): Linear(in_features=768, out_features=3072, bias=True)\n",
              "        )\n",
              "        (output): DebertaOutput(\n",
              "          (dense): Linear(in_features=3072, out_features=768, bias=True)\n",
              "          (LayerNorm): DebertaLayerNorm()\n",
              "          (dropout): StableDropout()\n",
              "        )\n",
              "      )\n",
              "      (11): DebertaLayer(\n",
              "        (attention): DebertaAttention(\n",
              "          (self): DisentangledSelfAttention(\n",
              "            (in_proj): Linear(in_features=768, out_features=2304, bias=False)\n",
              "            (pos_dropout): StableDropout()\n",
              "            (pos_proj): Linear(in_features=768, out_features=768, bias=False)\n",
              "            (pos_q_proj): Linear(in_features=768, out_features=768, bias=True)\n",
              "            (dropout): StableDropout()\n",
              "          )\n",
              "          (output): DebertaSelfOutput(\n",
              "            (dense): Linear(in_features=768, out_features=768, bias=True)\n",
              "            (LayerNorm): DebertaLayerNorm()\n",
              "            (dropout): StableDropout()\n",
              "          )\n",
              "        )\n",
              "        (intermediate): DebertaIntermediate(\n",
              "          (dense): Linear(in_features=768, out_features=3072, bias=True)\n",
              "        )\n",
              "        (output): DebertaOutput(\n",
              "          (dense): Linear(in_features=3072, out_features=768, bias=True)\n",
              "          (LayerNorm): DebertaLayerNorm()\n",
              "          (dropout): StableDropout()\n",
              "        )\n",
              "      )\n",
              "    )\n",
              "    (rel_embeddings): Embedding(1024, 768)\n",
              "  )\n",
              ")"
            ]
          },
          "metadata": {
            "tags": []
          },
          "execution_count": 125
        }
      ]
    },
    {
      "cell_type": "markdown",
      "metadata": {
        "id": "A5eHPqgNac4r"
      },
      "source": [
        "### Generating Comment Embeddings"
      ]
    },
    {
      "cell_type": "code",
      "metadata": {
        "colab": {
          "base_uri": "https://localhost:8080/"
        },
        "id": "-6-aHVqtac4s",
        "outputId": "22650ac9-c36c-4faf-b2c6-bdfc31bbb9e3"
      },
      "source": [
        "all_cls = []\n",
        "\n",
        "for iteration, batch in tqdm(enumerate(train_loader)):\n",
        "    \n",
        "    input_ids = batch['input_ids'].to(device)\n",
        "    attention_mask = batch['attention_mask'].to(device)\n",
        "    \n",
        "    with torch.no_grad():\n",
        "        \n",
        "        last_hidden_state = model(input_ids, attention_mask=attention_mask).last_hidden_state\n",
        "        cls_tokens = last_hidden_state[:,0,:].detach()\n",
        "        \n",
        "        all_cls.append(cls_tokens)\n",
        "\n",
        "        \n",
        "# out_cls is a matrix of size number_of_not_null_comments (23799) X size_of_hidden_state_of_BERT (768)\n",
        "# In this matrix, for each comment we have an embedding vector.\n",
        "# Use \"ids\" list to map each comment with its ids.\n",
        "out_cls = torch.cat(all_cls, 0)\n",
        "\n",
        "print(\"shape of output matrix :\", out_cls.shape)"
      ],
      "execution_count": 126,
      "outputs": [
        {
          "output_type": "stream",
          "text": [
            "744it [00:33, 22.19it/s]"
          ],
          "name": "stderr"
        },
        {
          "output_type": "stream",
          "text": [
            "shape of output matrix : torch.Size([23799, 768])\n"
          ],
          "name": "stdout"
        },
        {
          "output_type": "stream",
          "text": [
            "\n"
          ],
          "name": "stderr"
        }
      ]
    },
    {
      "cell_type": "markdown",
      "metadata": {
        "id": "TDVJI76uzlya"
      },
      "source": [
        "# 5. Preparing Input and Output Features"
      ]
    },
    {
      "cell_type": "markdown",
      "metadata": {
        "id": "Rl9-07Rd2XTa"
      },
      "source": [
        "### Creating feature maps"
      ]
    },
    {
      "cell_type": "code",
      "metadata": {
        "id": "F3tXTJGF2i4q"
      },
      "source": [
        "category_map = {}\n",
        "measure_map = {}\n",
        "log_type_map = {}\n",
        "\n",
        "for i in range(len(dataset['ID'])):\n",
        "\n",
        "    category = dataset['CATEGORY'][i]\n",
        "    measure = dataset['MEASURE'][i]\n",
        "    log_type =dataset['LOG_TYPE'][i]\n",
        "\n",
        "    if category not in category_map:\n",
        "        category_map[category] = len(category_map.keys())\n",
        "    \n",
        "    if measure not in measure_map:\n",
        "        measure_map[measure] = len(measure_map.keys())\n",
        "\n",
        "    if log_type not in log_type_map:\n",
        "        log_type_map[log_type] = len(log_type_map.keys())\n",
        "\n",
        "\n",
        "id2index_map = {}\n",
        "\n",
        "for index, id in enumerate(dataset['ID']):\n",
        "    id2index_map[id] = index"
      ],
      "execution_count": 127,
      "outputs": []
    },
    {
      "cell_type": "markdown",
      "metadata": {
        "id": "PaG_QxoD4F9-"
      },
      "source": [
        "### Preparing input features"
      ]
    },
    {
      "cell_type": "code",
      "metadata": {
        "id": "jLssf_j1ac4s"
      },
      "source": [
        "message_embeddings = out_cls.tolist()\n",
        "categories = []\n",
        "measures = []\n",
        "log_types = []\n",
        "\n",
        "for id in not_null_ids:\n",
        "    index = id2index_map[id]\n",
        "\n",
        "    category = category_map[dataset['CATEGORY'][index]]\n",
        "    one_hot_category = [0 for i in range(len(category_map.keys()))]\n",
        "    one_hot_category[category] = 1\n",
        "    categories.append(one_hot_category)\n",
        "\n",
        "    measure = measure_map[dataset['MEASURE'][index]]\n",
        "    one_hot_measure = [0 for i in range(len(measure_map.keys()))]\n",
        "    one_hot_measure[measure] = 1\n",
        "    measures.append(one_hot_measure)\n",
        "\n",
        "    log_type = log_type_map[dataset['LOG_TYPE'][index]]\n",
        "    log_types.append(log_type)\n"
      ],
      "execution_count": 128,
      "outputs": []
    },
    {
      "cell_type": "markdown",
      "metadata": {
        "id": "r3gNJag6Jkn3"
      },
      "source": [
        "### Reading combined dataset & Preparing output labels"
      ]
    },
    {
      "cell_type": "code",
      "metadata": {
        "id": "iQdbdXhlJjFJ",
        "colab": {
          "base_uri": "https://localhost:8080/"
        },
        "outputId": "1787e88d-e964-4d55-fbba-e8842dbcbcff"
      },
      "source": [
        "xl_file = pd.ExcelFile('/content/Combined.xlsx')\n",
        "\n",
        "sheets = {sheet_name: xl_file.parse(sheet_name) \n",
        "          for sheet_name in xl_file.sheet_names}\n",
        "\n",
        "dataframe = sheets['Policy']\n",
        "\n",
        "print('Sheets in the dataset:   ', sheets.keys())\n",
        "print('Number of regulations in the dataset: ', len(dataframe), '\\n')\n",
        "\n",
        "print(dataframe.head())\n",
        "# print('\\n', dataframe.info(), '\\n')\n",
        "\n",
        "combined_dataset = {}\n",
        "for key in dataframe:\n",
        "    dataframe[key]=dataframe[key].astype('str')\n",
        "    combined_dataset[key] = list(dataframe[key])"
      ],
      "execution_count": 129,
      "outputs": [
        {
          "output_type": "stream",
          "text": [
            "Sheets in the dataset:    dict_keys(['Cases', 'Policy', 'HyperParam', 'Summary'])\n",
            "Number of regulations in the dataset:  23923 \n",
            "\n",
            "      ID  ISO            COUNTRY  ...    Dleta Delta_percent  Label_percent\n",
            "0   1448  TUR             Turkey  ... -15576.0     -1.998717            0.0\n",
            "1   2509  USA      United States  ...  -9083.0     -1.998680            0.0\n",
            "2   2620  USA      United States  ...  -6455.0     -1.998143            0.0\n",
            "3  15613  GNQ  Equatorial Guinea  ...  -1750.0     -2.000000            0.0\n",
            "4   9941  TJK         Tajikistan  ...  -1499.0     -2.000000            0.0\n",
            "\n",
            "[5 rows x 42 columns]\n"
          ],
          "name": "stdout"
        }
      ]
    },
    {
      "cell_type": "code",
      "metadata": {
        "id": "BXijvUImUQ0g"
      },
      "source": [
        "id2label = {}\n",
        "id2history = {}\n",
        "for i in range(len(combined_dataset['ID'])):\n",
        "    id2label[int(combined_dataset['ID'][i])] = combined_dataset['Delta_percent'][i]\n",
        "    id2history[int(combined_dataset['ID'][i])] = [float(combined_dataset['D1'][i]),\n",
        "                                                  float(combined_dataset['D2'][i]),\n",
        "                                                  float(combined_dataset['D3'][i]),\n",
        "                                                  float(combined_dataset['D4'][i]),\n",
        "                                                  float(combined_dataset['D5'][i]),\n",
        "                                                  float(combined_dataset['D6'][i]),\n",
        "                                                  float(combined_dataset['D7'][i]),\n",
        "                                                  float(combined_dataset['D8'][i]),\n",
        "                                                  float(combined_dataset['D9'][i]),\n",
        "                                                  float(combined_dataset['D10'][i]),\n",
        "                                                  float(combined_dataset['D11'][i]),\n",
        "                                                  float(combined_dataset['D12'][i]),\n",
        "                                                  float(combined_dataset['D13'][i]),\n",
        "                                                  float(combined_dataset['D14'][i])]\n",
        "labels = []\n",
        "histories = []\n",
        "for id in not_null_ids:\n",
        "    histories.append(id2history[id])\n",
        "    # if id2label[id] == '0.0' or id2label[id] == '1.0':\n",
        "    #     labels.append(int(float(id2label[id])))\n",
        "    if float(id2label[id]) < 2 or float(id2label[id]) < -2:  ## only consider targets between 2 and -2\n",
        "        labels.append(float(id2label[id]))\n",
        "    else:\n",
        "        labels.append(\"NAN\")\n",
        "        # The label is NAN!"
      ],
      "execution_count": 138,
      "outputs": []
    },
    {
      "cell_type": "code",
      "metadata": {
        "id": "lfqf87dKJcbC",
        "colab": {
          "base_uri": "https://localhost:8080/"
        },
        "outputId": "c26e4f35-093d-4264-d82f-56adf3355072"
      },
      "source": [
        "# ids: not_null_ids\n",
        "# features: \n",
        "#   - message_embeddings\n",
        "#   - categories\n",
        "#   - measures\n",
        "#   - log_types\n",
        "#   - history (14 days)\n",
        "# labels: \n",
        "#   - labels\n",
        "\n",
        "print('Not null ids dimension: ', len(not_null_ids))\n",
        "print('Log type dimension: ', len(log_types))\n",
        "print('Category dimension: ', len(categories), len(categories[0]))\n",
        "print('Measure dimension: ', len(measures), len(measures[0]))\n",
        "print('Message Embedding dimension: ', len(message_embeddings), len(message_embeddings[0]))\n",
        "print('Previous 14 days cases dimension: ', len(histories), len(histories[0]))\n",
        "print('Label dimension: ', len(labels))\n"
      ],
      "execution_count": 136,
      "outputs": [
        {
          "output_type": "stream",
          "text": [
            "Not null ids dimension:  23799\n",
            "Log type dimension:  23799\n",
            "Category dimension:  23799 6\n",
            "Measure dimension:  23799 35\n",
            "Message Embedding dimension:  23799 768\n",
            "Previous 14 days cases dimension:  23799 14\n",
            "Label dimension:  23799\n"
          ],
          "name": "stdout"
        }
      ]
    },
    {
      "cell_type": "code",
      "metadata": {
        "colab": {
          "base_uri": "https://localhost:8080/"
        },
        "id": "gANhIPJKczor",
        "outputId": "133b1cfa-213d-459f-e861-e3cde3e27405"
      },
      "source": [
        "X_data = []\n",
        "y_data = []\n",
        "\n",
        "# reduce Deberta embedding with PCA\n",
        "pca = PCA(n_components=20)\n",
        "message_embeddings_reduced = pca.fit_transform(message_embeddings).tolist()\n",
        "\n",
        "\n",
        "##### With comments\n",
        "for label, id, log_type, category, measure, message_embedding_reduced, history in zip(labels, not_null_ids, log_types, categories, measures, message_embeddings_reduced, histories):\n",
        "    if label != \"NAN\" :\n",
        "        X_data.append([log_type] + category + measure + message_embedding_reduced + history)\n",
        "        y_data.append(label) \n",
        "\n",
        "\n",
        "# ###### No comments\n",
        "# for label, id, log_type, category, measure, history in zip(labels, not_null_ids, log_types, categories, measures, histories):\n",
        "#     if label == 0 or label == 1:\n",
        "#         X_data.append([log_type] + category + measure + history)\n",
        "#         y_data.append(label)\n",
        "\n",
        "scaler = MinMaxScaler()\n",
        "X_data = scaler.fit_transform(X_data)\n",
        "\n",
        "\n",
        "X_train, X_test_val, y_train, y_test_val = train_test_split(X_data, y_data, test_size=0.2, random_state=42)\n",
        "X_val, X_test, y_val, y_test = train_test_split(X_test_val, y_test_val, test_size=0.5, random_state=42)\n",
        "\n",
        "\n",
        "print(\"Train size: \", len(X_train))\n",
        "print(\"Test size: \", len(X_test))\n",
        "print(\"validation size: \", len(X_test))\n",
        "print('all: ', len(X_data))"
      ],
      "execution_count": 139,
      "outputs": [
        {
          "output_type": "stream",
          "text": [
            "Train size:  15824\n",
            "Test size:  1979\n",
            "validation size:  1979\n",
            "all:  19781\n"
          ],
          "name": "stdout"
        }
      ]
    },
    {
      "cell_type": "markdown",
      "metadata": {
        "id": "e2mcvEuyVD1p"
      },
      "source": [
        "# **Define/Train a MLP network**"
      ]
    },
    {
      "cell_type": "code",
      "metadata": {
        "colab": {
          "base_uri": "https://localhost:8080/"
        },
        "id": "uwoGLGA9QY2H",
        "outputId": "8b5d8707-1193-4f6a-f8c2-8ec7cc6f7ad9"
      },
      "source": [
        "from torch import nn\n",
        "import torch.nn.functional as F\n",
        "\n",
        "input_size = len(X_train[0])\n",
        "print(\"The input size is: \", input_size)\n",
        "\n",
        "\n",
        "class MLP(nn.Module):\n",
        "    def __init__(self, n_inputs):\n",
        "        super(MLP, self).__init__()\n",
        "        self.hidden1 = nn.Linear(n_inputs, 64)\n",
        "        self.act1 = nn.SELU()\n",
        "        self.dropout1 = nn.Dropout(0.3)\n",
        "        self.hidden2 = nn.Linear(64, 64)\n",
        "        self.act2 = nn.SELU()\n",
        "        self.hidden3 = nn.Linear(64, 64)\n",
        "        self.act3 = nn.SELU()\n",
        "        self.hidden4 = nn.Linear(64, 1)\n",
        "\n",
        "\n",
        "    def forward(self, X):\n",
        "        X = self.hidden1(X)\n",
        "        X = self.act1(X)\n",
        "        X = self.dropout1(X)\n",
        "        X = self.hidden2(X)\n",
        "        X = self.act2(X)\n",
        "        X = self.hidden3(X)\n",
        "        X = self.act3(X)\n",
        "        X = self.hidden4(X)\n",
        "        return X\n",
        "\n",
        "model = MLP(input_size)\n",
        "model.to(device)"
      ],
      "execution_count": 164,
      "outputs": [
        {
          "output_type": "stream",
          "text": [
            "The input size is:  76\n"
          ],
          "name": "stdout"
        },
        {
          "output_type": "execute_result",
          "data": {
            "text/plain": [
              "MLP(\n",
              "  (hidden1): Linear(in_features=76, out_features=64, bias=True)\n",
              "  (act1): SELU()\n",
              "  (dropout1): Dropout(p=0.3, inplace=False)\n",
              "  (hidden2): Linear(in_features=64, out_features=64, bias=True)\n",
              "  (act2): SELU()\n",
              "  (hidden3): Linear(in_features=64, out_features=64, bias=True)\n",
              "  (act3): SELU()\n",
              "  (hidden4): Linear(in_features=64, out_features=1, bias=True)\n",
              ")"
            ]
          },
          "metadata": {
            "tags": []
          },
          "execution_count": 164
        }
      ]
    },
    {
      "cell_type": "code",
      "metadata": {
        "id": "Gp-XfzBwXAC_"
      },
      "source": [
        "class CustumDataset(torch.utils.data.Dataset):\n",
        "    def __init__(self, xdata, ydata):\n",
        "        self.x_data = xdata\n",
        "        self.labels = ydata\n",
        "\n",
        "    def __getitem__(self, index):\n",
        "        ID = self.x_data[index]\n",
        "\n",
        "        X = torch.tensor(self.x_data[index]).float().to(device)\n",
        "        y =  torch.tensor(self.labels[index]).to(device)\n",
        "\n",
        "        return X, y\n",
        "\n",
        "    def __len__(self):\n",
        "        return len(self.labels)\n",
        "\n",
        "\n",
        "trainset = CustumDataset(X_train, y_train)\n",
        "testset = CustumDataset(X_test, y_test)\n",
        "valset = CustumDataset(X_val, y_val)\n",
        "\n",
        "\n",
        "class_counts = [len(y_train)-np.sum(y_train), np.sum(y_train)]\n",
        "num_samples = sum(class_counts)\n",
        "\n",
        "\n",
        "trainLoader = DataLoader(trainset, batch_size=16, shuffle=True)\n",
        "testLoader = DataLoader(testset, batch_size=32, shuffle=False)\n",
        "valLoader = DataLoader(valset, batch_size=32, shuffle=False)\n"
      ],
      "execution_count": 165,
      "outputs": []
    },
    {
      "cell_type": "code",
      "metadata": {
        "id": "k2bEEkUbZOCY"
      },
      "source": [
        "def train_model(train_dl, model):\n",
        "    criterion = nn.MSELoss()\n",
        "    optimizer = torch.optim.Adam(model.parameters(), lr=0.001, eps = 0.001/epochs)\n",
        "    running_loss = 0\n",
        "    total_steps = 0\n",
        "    model.train()\n",
        "\n",
        "    for i, (inputs, targets) in enumerate(train_dl):\n",
        "        optimizer.zero_grad()\n",
        "        output = model(inputs).float()\n",
        "        targets = targets.reshape((len(targets), 1))\n",
        "        loss = criterion(output, targets.float())\n",
        "        loss.backward()\n",
        "        optimizer.step()\n",
        "        running_loss += loss.item()\n",
        "        total_steps += 1\n",
        "    return running_loss/total_steps\n",
        "    \n",
        "\n",
        "def evaluate_model(test_dl, model):\n",
        "    model.eval()\n",
        "    criterion = nn.MSELoss()\n",
        "    running_loss = 0\n",
        "    total_steps = 0\n",
        "    pred_list = np.array([])\n",
        "    label_list = np.array([])\n",
        "    for i, (input, label) in enumerate(test_dl):\n",
        "        output = model(input)\n",
        "\n",
        "        loss = criterion(output.float(), label.reshape((len(label), 1)).float())\n",
        "        running_loss += loss.item()\n",
        "        total_steps += 1\n",
        "\n",
        "        label_list= np.append(label_list, label.cpu().numpy())\n",
        "        pred_list = np.append(pred_list, output.cpu().detach().numpy())\n",
        "\n",
        "    loss = running_loss/total_steps\n",
        "    mse = mean_squared_error(label_list,pred_list)\n",
        "    mae = mean_absolute_error(label_list,pred_list)\n",
        "    r2 = r2_score(label_list,pred_list)\n",
        "    \n",
        "    return loss, mae, mse, r2\n",
        "\n"
      ],
      "execution_count": 168,
      "outputs": []
    },
    {
      "cell_type": "code",
      "metadata": {
        "colab": {
          "base_uri": "https://localhost:8080/"
        },
        "id": "PyrwWNBNtxHv",
        "outputId": "e7ad649f-bb29-45f2-d333-f8d218defdfd"
      },
      "source": [
        "epochs = 1000\n",
        "train_losses = []\n",
        "val_losses = []\n",
        "val_mses = []\n",
        "val_maes = []\n",
        "val_r2s = []\n",
        "train_mses = []\n",
        "train_maes = []\n",
        "train_r2s = []\n",
        "min_mse = 1000\n",
        "min_mae =  1000\n",
        "for e in range(1,epochs+1):\n",
        "    \n",
        "    train_loss = train_model(trainLoader, model)\n",
        "    train_losses.append(train_loss)\n",
        "\n",
        "    _, train_mae,train_mse, train_r2= evaluate_model(trainLoader, model)\n",
        "    train_mses.append(train_mse)\n",
        "    train_maes.append(train_mae)\n",
        "    train_r2s.append(train_r2)\n",
        "\n",
        "    val_loss, val_mae, val_mse, val_r2 = evaluate_model(valLoader, model)\n",
        "    val_losses.append(val_loss)\n",
        "    val_mses.append(val_mse)\n",
        "    val_maes.append(val_mae)\n",
        "    val_r2s.append(val_r2)\n",
        "\n",
        "    if e % 10 == 0 :\n",
        "        print(f\"\\nepoch {e}/{epochs}\")\n",
        "        print(f\" Train loss = {round(train_loss, 4)}\", f\" | Train R2 = {train_r2.round(4)} \", f\" | Train MAE = {train_mae.round(4)} \")\n",
        "        print(f\" Val loss = {round(val_loss, 4)}\", f\" | Val R2 = {val_r2.round(4)} \",  f\" | Val MAE = {val_mae.round(4)} \")\n",
        "        torch.save(model, 'model'+str(e)+'.pt') \n",
        "    if val_mse < min_mse:\n",
        "        min_mse = val_mse\n",
        "        torch.save(model, 'model_min_mse.pt')\n",
        "    if val_mae < min_mae:\n",
        "        min_mae = val_mae\n",
        "        torch.save(model, 'model_min_mae.pt')  \n",
        "\n",
        "\n",
        "\n"
      ],
      "execution_count": 169,
      "outputs": [
        {
          "output_type": "stream",
          "text": [
            "\n",
            "epoch 10/1000\n",
            " Train loss = 0.8625  | Train R2 = 0.1037   | Train MAE = 0.6884 \n",
            " Val loss = 0.7163  | Val R2 = 0.119   | Val MAE = 0.6714 \n",
            "\n",
            "epoch 20/1000\n",
            " Train loss = 0.8486  | Train R2 = 0.1169   | Train MAE = 0.6877 \n",
            " Val loss = 0.706  | Val R2 = 0.1315   | Val MAE = 0.6725 \n",
            "\n",
            "epoch 30/1000\n",
            " Train loss = 0.8345  | Train R2 = 0.1111   | Train MAE = 0.6953 \n",
            " Val loss = 0.7114  | Val R2 = 0.1248   | Val MAE = 0.6809 \n",
            "\n",
            "epoch 40/1000\n",
            " Train loss = 0.8222  | Train R2 = 0.1297   | Train MAE = 0.6633 \n",
            " Val loss = 0.6948  | Val R2 = 0.1451   | Val MAE = 0.6487 \n",
            "\n",
            "epoch 50/1000\n",
            " Train loss = 0.8139  | Train R2 = 0.1395   | Train MAE = 0.6646 \n",
            " Val loss = 0.688  | Val R2 = 0.1534   | Val MAE = 0.6519 \n",
            "\n",
            "epoch 60/1000\n",
            " Train loss = 0.8144  | Train R2 = 0.1577   | Train MAE = 0.6598 \n",
            " Val loss = 0.6734  | Val R2 = 0.1715   | Val MAE = 0.6461 \n",
            "\n",
            "epoch 70/1000\n",
            " Train loss = 0.8141  | Train R2 = 0.1123   | Train MAE = 0.6877 \n",
            " Val loss = 0.7357  | Val R2 = 0.095   | Val MAE = 0.6876 \n",
            "\n",
            "epoch 80/1000\n",
            " Train loss = 0.8031  | Train R2 = 0.168   | Train MAE = 0.6565 \n",
            " Val loss = 0.6707  | Val R2 = 0.1749   | Val MAE = 0.646 \n",
            "\n",
            "epoch 90/1000\n",
            " Train loss = 0.8012  | Train R2 = 0.178   | Train MAE = 0.6443 \n",
            " Val loss = 0.6542  | Val R2 = 0.195   | Val MAE = 0.6321 \n",
            "\n",
            "epoch 100/1000\n",
            " Train loss = 0.7981  | Train R2 = 0.167   | Train MAE = 0.6493 \n",
            " Val loss = 0.6626  | Val R2 = 0.1847   | Val MAE = 0.6383 \n",
            "\n",
            "epoch 110/1000\n",
            " Train loss = 0.7956  | Train R2 = 0.1735   | Train MAE = 0.6534 \n",
            " Val loss = 0.6604  | Val R2 = 0.1874   | Val MAE = 0.6426 \n",
            "\n",
            "epoch 120/1000\n",
            " Train loss = 0.7949  | Train R2 = 0.1799   | Train MAE = 0.6465 \n",
            " Val loss = 0.6599  | Val R2 = 0.1879   | Val MAE = 0.6379 \n",
            "\n",
            "epoch 130/1000\n",
            " Train loss = 0.792  | Train R2 = 0.1884   | Train MAE = 0.6439 \n",
            " Val loss = 0.6564  | Val R2 = 0.1924   | Val MAE = 0.6375 \n",
            "\n",
            "epoch 140/1000\n",
            " Train loss = 0.7871  | Train R2 = 0.1793   | Train MAE = 0.6519 \n",
            " Val loss = 0.6707  | Val R2 = 0.1748   | Val MAE = 0.6505 \n",
            "\n",
            "epoch 150/1000\n",
            " Train loss = 0.7893  | Train R2 = 0.1478   | Train MAE = 0.659 \n",
            " Val loss = 0.684  | Val R2 = 0.1581   | Val MAE = 0.6505 \n",
            "\n",
            "epoch 160/1000\n",
            " Train loss = 0.7878  | Train R2 = 0.1755   | Train MAE = 0.6527 \n",
            " Val loss = 0.6696  | Val R2 = 0.1761   | Val MAE = 0.647 \n",
            "\n",
            "epoch 170/1000\n",
            " Train loss = 0.7896  | Train R2 = 0.1919   | Train MAE = 0.6413 \n",
            " Val loss = 0.6531  | Val R2 = 0.1963   | Val MAE = 0.6395 \n",
            "\n",
            "epoch 180/1000\n",
            " Train loss = 0.7849  | Train R2 = 0.1727   | Train MAE = 0.6521 \n",
            " Val loss = 0.6805  | Val R2 = 0.1628   | Val MAE = 0.6537 \n",
            "\n",
            "epoch 190/1000\n",
            " Train loss = 0.7859  | Train R2 = 0.1946   | Train MAE = 0.644 \n",
            " Val loss = 0.649  | Val R2 = 0.2014   | Val MAE = 0.6365 \n",
            "\n",
            "epoch 200/1000\n",
            " Train loss = 0.7824  | Train R2 = 0.2019   | Train MAE = 0.6308 \n",
            " Val loss = 0.6406  | Val R2 = 0.2117   | Val MAE = 0.6238 \n",
            "\n",
            "epoch 210/1000\n",
            " Train loss = 0.7827  | Train R2 = 0.1812   | Train MAE = 0.6511 \n",
            " Val loss = 0.6711  | Val R2 = 0.1745   | Val MAE = 0.6501 \n",
            "\n",
            "epoch 220/1000\n",
            " Train loss = 0.7757  | Train R2 = 0.1581   | Train MAE = 0.6483 \n",
            " Val loss = 0.6777  | Val R2 = 0.1659   | Val MAE = 0.6404 \n",
            "\n",
            "epoch 230/1000\n",
            " Train loss = 0.7806  | Train R2 = 0.2036   | Train MAE = 0.6331 \n",
            " Val loss = 0.644  | Val R2 = 0.2075   | Val MAE = 0.6285 \n",
            "\n",
            "epoch 240/1000\n",
            " Train loss = 0.7769  | Train R2 = 0.1898   | Train MAE = 0.6325 \n",
            " Val loss = 0.6545  | Val R2 = 0.1946   | Val MAE = 0.6253 \n",
            "\n",
            "epoch 250/1000\n",
            " Train loss = 0.7776  | Train R2 = 0.1868   | Train MAE = 0.6446 \n",
            " Val loss = 0.6521  | Val R2 = 0.1976   | Val MAE = 0.6338 \n",
            "\n",
            "epoch 260/1000\n",
            " Train loss = 0.7767  | Train R2 = 0.1865   | Train MAE = 0.6291 \n",
            " Val loss = 0.666  | Val R2 = 0.1803   | Val MAE = 0.6282 \n",
            "\n",
            "epoch 270/1000\n",
            " Train loss = 0.7796  | Train R2 = 0.1977   | Train MAE = 0.6397 \n",
            " Val loss = 0.6549  | Val R2 = 0.1941   | Val MAE = 0.6388 \n",
            "\n",
            "epoch 280/1000\n",
            " Train loss = 0.7764  | Train R2 = 0.2066   | Train MAE = 0.6295 \n",
            " Val loss = 0.6453  | Val R2 = 0.2059   | Val MAE = 0.6259 \n",
            "\n",
            "epoch 290/1000\n",
            " Train loss = 0.7785  | Train R2 = 0.2   | Train MAE = 0.6366 \n",
            " Val loss = 0.658  | Val R2 = 0.1905   | Val MAE = 0.635 \n",
            "\n",
            "epoch 300/1000\n",
            " Train loss = 0.7733  | Train R2 = 0.1975   | Train MAE = 0.6422 \n",
            " Val loss = 0.6581  | Val R2 = 0.1902   | Val MAE = 0.6397 \n",
            "\n",
            "epoch 310/1000\n",
            " Train loss = 0.7781  | Train R2 = 0.2121   | Train MAE = 0.6295 \n",
            " Val loss = 0.64  | Val R2 = 0.2125   | Val MAE = 0.6281 \n",
            "\n",
            "epoch 320/1000\n",
            " Train loss = 0.7756  | Train R2 = 0.2059   | Train MAE = 0.6341 \n",
            " Val loss = 0.6444  | Val R2 = 0.2071   | Val MAE = 0.6311 \n",
            "\n",
            "epoch 330/1000\n",
            " Train loss = 0.7697  | Train R2 = 0.212   | Train MAE = 0.6288 \n",
            " Val loss = 0.6387  | Val R2 = 0.2139   | Val MAE = 0.6258 \n",
            "\n",
            "epoch 340/1000\n",
            " Train loss = 0.7722  | Train R2 = 0.2107   | Train MAE = 0.628 \n",
            " Val loss = 0.6447  | Val R2 = 0.2066   | Val MAE = 0.6264 \n",
            "\n",
            "epoch 350/1000\n",
            " Train loss = 0.7728  | Train R2 = 0.2156   | Train MAE = 0.6288 \n",
            " Val loss = 0.6442  | Val R2 = 0.2072   | Val MAE = 0.6306 \n",
            "\n",
            "epoch 360/1000\n",
            " Train loss = 0.7669  | Train R2 = 0.2031   | Train MAE = 0.6369 \n",
            " Val loss = 0.6519  | Val R2 = 0.1979   | Val MAE = 0.6335 \n",
            "\n",
            "epoch 370/1000\n",
            " Train loss = 0.7694  | Train R2 = 0.1455   | Train MAE = 0.6596 \n",
            " Val loss = 0.7284  | Val R2 = 0.1041   | Val MAE = 0.6711 \n",
            "\n",
            "epoch 380/1000\n",
            " Train loss = 0.7681  | Train R2 = 0.2199   | Train MAE = 0.6235 \n",
            " Val loss = 0.6313  | Val R2 = 0.2232   | Val MAE = 0.6189 \n",
            "\n",
            "epoch 390/1000\n",
            " Train loss = 0.7715  | Train R2 = 0.2143   | Train MAE = 0.6278 \n",
            " Val loss = 0.6393  | Val R2 = 0.2132   | Val MAE = 0.6279 \n",
            "\n",
            "epoch 400/1000\n",
            " Train loss = 0.7654  | Train R2 = 0.1873   | Train MAE = 0.6409 \n",
            " Val loss = 0.6719  | Val R2 = 0.1733   | Val MAE = 0.6463 \n",
            "\n",
            "epoch 410/1000\n",
            " Train loss = 0.7663  | Train R2 = 0.2202   | Train MAE = 0.6214 \n",
            " Val loss = 0.6447  | Val R2 = 0.2067   | Val MAE = 0.6237 \n",
            "\n",
            "epoch 420/1000\n",
            " Train loss = 0.7704  | Train R2 = 0.2152   | Train MAE = 0.6267 \n",
            " Val loss = 0.6388  | Val R2 = 0.214   | Val MAE = 0.6257 \n",
            "\n",
            "epoch 430/1000\n",
            " Train loss = 0.7691  | Train R2 = 0.2245   | Train MAE = 0.6193 \n",
            " Val loss = 0.6354  | Val R2 = 0.2179   | Val MAE = 0.6204 \n",
            "\n",
            "epoch 440/1000\n",
            " Train loss = 0.7684  | Train R2 = 0.1984   | Train MAE = 0.6316 \n",
            " Val loss = 0.6568  | Val R2 = 0.1917   | Val MAE = 0.6322 \n",
            "\n",
            "epoch 450/1000\n",
            " Train loss = 0.7572  | Train R2 = 0.2245   | Train MAE = 0.6246 \n",
            " Val loss = 0.6327  | Val R2 = 0.2213   | Val MAE = 0.6264 \n",
            "\n",
            "epoch 460/1000\n",
            " Train loss = 0.7602  | Train R2 = 0.2297   | Train MAE = 0.6172 \n",
            " Val loss = 0.6348  | Val R2 = 0.2188   | Val MAE = 0.6194 \n",
            "\n",
            "epoch 470/1000\n",
            " Train loss = 0.7642  | Train R2 = 0.2235   | Train MAE = 0.6255 \n",
            " Val loss = 0.6439  | Val R2 = 0.2077   | Val MAE = 0.6319 \n",
            "\n",
            "epoch 480/1000\n",
            " Train loss = 0.758  | Train R2 = 0.1956   | Train MAE = 0.6276 \n",
            " Val loss = 0.6662  | Val R2 = 0.1803   | Val MAE = 0.6277 \n",
            "\n",
            "epoch 490/1000\n",
            " Train loss = 0.7584  | Train R2 = 0.2233   | Train MAE = 0.623 \n",
            " Val loss = 0.6381  | Val R2 = 0.2148   | Val MAE = 0.624 \n",
            "\n",
            "epoch 500/1000\n",
            " Train loss = 0.7618  | Train R2 = 0.2258   | Train MAE = 0.6206 \n",
            " Val loss = 0.6365  | Val R2 = 0.2166   | Val MAE = 0.6247 \n",
            "\n",
            "epoch 510/1000\n",
            " Train loss = 0.7656  | Train R2 = 0.2334   | Train MAE = 0.6178 \n",
            " Val loss = 0.6307  | Val R2 = 0.2238   | Val MAE = 0.6203 \n",
            "\n",
            "epoch 520/1000\n",
            " Train loss = 0.7599  | Train R2 = 0.2231   | Train MAE = 0.618 \n",
            " Val loss = 0.6418  | Val R2 = 0.2101   | Val MAE = 0.6211 \n",
            "\n",
            "epoch 530/1000\n",
            " Train loss = 0.7627  | Train R2 = 0.2303   | Train MAE = 0.6171 \n",
            " Val loss = 0.6374  | Val R2 = 0.2154   | Val MAE = 0.6229 \n",
            "\n",
            "epoch 540/1000\n",
            " Train loss = 0.7664  | Train R2 = 0.2216   | Train MAE = 0.6196 \n",
            " Val loss = 0.6379  | Val R2 = 0.2149   | Val MAE = 0.6186 \n",
            "\n",
            "epoch 550/1000\n",
            " Train loss = 0.7589  | Train R2 = 0.235   | Train MAE = 0.6127 \n",
            " Val loss = 0.6413  | Val R2 = 0.2108   | Val MAE = 0.6219 \n",
            "\n",
            "epoch 560/1000\n",
            " Train loss = 0.7629  | Train R2 = 0.2255   | Train MAE = 0.6259 \n",
            " Val loss = 0.6515  | Val R2 = 0.1985   | Val MAE = 0.635 \n",
            "\n",
            "epoch 570/1000\n",
            " Train loss = 0.756  | Train R2 = 0.2394   | Train MAE = 0.6136 \n",
            " Val loss = 0.6327  | Val R2 = 0.2215   | Val MAE = 0.6211 \n",
            "\n",
            "epoch 580/1000\n",
            " Train loss = 0.7533  | Train R2 = 0.2162   | Train MAE = 0.623 \n",
            " Val loss = 0.6477  | Val R2 = 0.2029   | Val MAE = 0.6249 \n",
            "\n",
            "epoch 590/1000\n",
            " Train loss = 0.7644  | Train R2 = 0.2294   | Train MAE = 0.6164 \n",
            " Val loss = 0.6335  | Val R2 = 0.2203   | Val MAE = 0.6184 \n",
            "\n",
            "epoch 600/1000\n",
            " Train loss = 0.7532  | Train R2 = 0.192   | Train MAE = 0.6382 \n",
            " Val loss = 0.6762  | Val R2 = 0.1681   | Val MAE = 0.6438 \n",
            "\n",
            "epoch 610/1000\n",
            " Train loss = 0.7547  | Train R2 = 0.2384   | Train MAE = 0.6091 \n",
            " Val loss = 0.642  | Val R2 = 0.2099   | Val MAE = 0.6201 \n",
            "\n",
            "epoch 620/1000\n",
            " Train loss = 0.757  | Train R2 = 0.2213   | Train MAE = 0.6276 \n",
            " Val loss = 0.6494  | Val R2 = 0.201   | Val MAE = 0.6326 \n",
            "\n",
            "epoch 630/1000\n",
            " Train loss = 0.7502  | Train R2 = 0.2426   | Train MAE = 0.6068 \n",
            " Val loss = 0.6408  | Val R2 = 0.2114   | Val MAE = 0.6201 \n",
            "\n",
            "epoch 640/1000\n",
            " Train loss = 0.7576  | Train R2 = 0.2159   | Train MAE = 0.6257 \n",
            " Val loss = 0.6515  | Val R2 = 0.1983   | Val MAE = 0.6279 \n",
            "\n",
            "epoch 650/1000\n",
            " Train loss = 0.7544  | Train R2 = 0.2358   | Train MAE = 0.6158 \n",
            " Val loss = 0.638  | Val R2 = 0.2147   | Val MAE = 0.6231 \n",
            "\n",
            "epoch 660/1000\n",
            " Train loss = 0.7523  | Train R2 = 0.1963   | Train MAE = 0.6329 \n",
            " Val loss = 0.667  | Val R2 = 0.1793   | Val MAE = 0.6322 \n",
            "\n",
            "epoch 670/1000\n",
            " Train loss = 0.7502  | Train R2 = 0.2153   | Train MAE = 0.6186 \n",
            " Val loss = 0.6578  | Val R2 = 0.1905   | Val MAE = 0.6274 \n",
            "\n",
            "epoch 680/1000\n",
            " Train loss = 0.7481  | Train R2 = 0.2256   | Train MAE = 0.6222 \n",
            " Val loss = 0.6585  | Val R2 = 0.1898   | Val MAE = 0.6347 \n",
            "\n",
            "epoch 690/1000\n",
            " Train loss = 0.7501  | Train R2 = 0.2033   | Train MAE = 0.6323 \n",
            " Val loss = 0.676  | Val R2 = 0.1683   | Val MAE = 0.6434 \n",
            "\n",
            "epoch 700/1000\n",
            " Train loss = 0.7517  | Train R2 = 0.23   | Train MAE = 0.6263 \n",
            " Val loss = 0.6472  | Val R2 = 0.2037   | Val MAE = 0.636 \n",
            "\n",
            "epoch 710/1000\n",
            " Train loss = 0.7448  | Train R2 = 0.2261   | Train MAE = 0.6212 \n",
            " Val loss = 0.6528  | Val R2 = 0.1968   | Val MAE = 0.6329 \n",
            "\n",
            "epoch 720/1000\n",
            " Train loss = 0.7515  | Train R2 = 0.2284   | Train MAE = 0.6148 \n",
            " Val loss = 0.6443  | Val R2 = 0.207   | Val MAE = 0.6212 \n",
            "\n",
            "epoch 730/1000\n",
            " Train loss = 0.7501  | Train R2 = 0.2418   | Train MAE = 0.6084 \n",
            " Val loss = 0.6328  | Val R2 = 0.2211   | Val MAE = 0.6168 \n",
            "\n",
            "epoch 740/1000\n",
            " Train loss = 0.7468  | Train R2 = 0.2372   | Train MAE = 0.6159 \n",
            " Val loss = 0.6453  | Val R2 = 0.206   | Val MAE = 0.63 \n",
            "\n",
            "epoch 750/1000\n",
            " Train loss = 0.7455  | Train R2 = 0.1741   | Train MAE = 0.6565 \n",
            " Val loss = 0.6881  | Val R2 = 0.1534   | Val MAE = 0.6595 \n",
            "\n",
            "epoch 760/1000\n",
            " Train loss = 0.7484  | Train R2 = 0.192   | Train MAE = 0.6327 \n",
            " Val loss = 0.6718  | Val R2 = 0.1733   | Val MAE = 0.6332 \n",
            "\n",
            "epoch 770/1000\n",
            " Train loss = 0.7528  | Train R2 = 0.2337   | Train MAE = 0.6228 \n",
            " Val loss = 0.631  | Val R2 = 0.2235   | Val MAE = 0.6279 \n",
            "\n",
            "epoch 780/1000\n",
            " Train loss = 0.7506  | Train R2 = 0.1983   | Train MAE = 0.627 \n",
            " Val loss = 0.6827  | Val R2 = 0.1603   | Val MAE = 0.6358 \n",
            "\n",
            "epoch 790/1000\n",
            " Train loss = 0.7474  | Train R2 = 0.24   | Train MAE = 0.6138 \n",
            " Val loss = 0.6454  | Val R2 = 0.2059   | Val MAE = 0.6262 \n",
            "\n",
            "epoch 800/1000\n",
            " Train loss = 0.7511  | Train R2 = 0.2385   | Train MAE = 0.6116 \n",
            " Val loss = 0.6367  | Val R2 = 0.2162   | Val MAE = 0.6214 \n",
            "\n",
            "epoch 810/1000\n",
            " Train loss = 0.7432  | Train R2 = 0.2382   | Train MAE = 0.609 \n",
            " Val loss = 0.6349  | Val R2 = 0.2187   | Val MAE = 0.6175 \n",
            "\n",
            "epoch 820/1000\n",
            " Train loss = 0.7444  | Train R2 = 0.2552   | Train MAE = 0.5992 \n",
            " Val loss = 0.6303  | Val R2 = 0.2244   | Val MAE = 0.612 \n",
            "\n",
            "epoch 830/1000\n",
            " Train loss = 0.7438  | Train R2 = 0.235   | Train MAE = 0.6063 \n",
            " Val loss = 0.6442  | Val R2 = 0.207   | Val MAE = 0.6147 \n",
            "\n",
            "epoch 840/1000\n",
            " Train loss = 0.7471  | Train R2 = 0.2385   | Train MAE = 0.6097 \n",
            " Val loss = 0.6369  | Val R2 = 0.2162   | Val MAE = 0.6156 \n",
            "\n",
            "epoch 850/1000\n",
            " Train loss = 0.7482  | Train R2 = 0.2591   | Train MAE = 0.6007 \n",
            " Val loss = 0.6292  | Val R2 = 0.2258   | Val MAE = 0.6197 \n",
            "\n",
            "epoch 860/1000\n",
            " Train loss = 0.7409  | Train R2 = 0.143   | Train MAE = 0.6597 \n",
            " Val loss = 0.7248  | Val R2 = 0.1079   | Val MAE = 0.665 \n",
            "\n",
            "epoch 870/1000\n",
            " Train loss = 0.742  | Train R2 = 0.2562   | Train MAE = 0.6063 \n",
            " Val loss = 0.6236  | Val R2 = 0.2326   | Val MAE = 0.6137 \n",
            "\n",
            "epoch 880/1000\n",
            " Train loss = 0.7476  | Train R2 = 0.2393   | Train MAE = 0.6119 \n",
            " Val loss = 0.6335  | Val R2 = 0.2203   | Val MAE = 0.6193 \n",
            "\n",
            "epoch 890/1000\n",
            " Train loss = 0.7422  | Train R2 = 0.2412   | Train MAE = 0.6176 \n",
            " Val loss = 0.6499  | Val R2 = 0.2005   | Val MAE = 0.632 \n",
            "\n",
            "epoch 900/1000\n",
            " Train loss = 0.7384  | Train R2 = 0.2093   | Train MAE = 0.6305 \n",
            " Val loss = 0.6781  | Val R2 = 0.1659   | Val MAE = 0.6469 \n",
            "\n",
            "epoch 910/1000\n",
            " Train loss = 0.747  | Train R2 = 0.2568   | Train MAE = 0.603 \n",
            " Val loss = 0.6272  | Val R2 = 0.2283   | Val MAE = 0.6162 \n",
            "\n",
            "epoch 920/1000\n",
            " Train loss = 0.7445  | Train R2 = 0.2339   | Train MAE = 0.6167 \n",
            " Val loss = 0.6474  | Val R2 = 0.2035   | Val MAE = 0.6307 \n",
            "\n",
            "epoch 930/1000\n",
            " Train loss = 0.7403  | Train R2 = 0.229   | Train MAE = 0.6175 \n",
            " Val loss = 0.6585  | Val R2 = 0.1897   | Val MAE = 0.6307 \n",
            "\n",
            "epoch 940/1000\n",
            " Train loss = 0.7372  | Train R2 = 0.2591   | Train MAE = 0.5985 \n",
            " Val loss = 0.6413  | Val R2 = 0.2108   | Val MAE = 0.6192 \n",
            "\n",
            "epoch 950/1000\n",
            " Train loss = 0.7388  | Train R2 = 0.2368   | Train MAE = 0.6265 \n",
            " Val loss = 0.6503  | Val R2 = 0.1998   | Val MAE = 0.6399 \n",
            "\n",
            "epoch 960/1000\n",
            " Train loss = 0.7407  | Train R2 = 0.2586   | Train MAE = 0.6063 \n",
            " Val loss = 0.632  | Val R2 = 0.2223   | Val MAE = 0.623 \n",
            "\n",
            "epoch 970/1000\n",
            " Train loss = 0.7373  | Train R2 = 0.2576   | Train MAE = 0.6073 \n",
            " Val loss = 0.644  | Val R2 = 0.2077   | Val MAE = 0.6299 \n",
            "\n",
            "epoch 980/1000\n",
            " Train loss = 0.734  | Train R2 = 0.2183   | Train MAE = 0.6245 \n",
            " Val loss = 0.6673  | Val R2 = 0.179   | Val MAE = 0.6427 \n",
            "\n",
            "epoch 990/1000\n",
            " Train loss = 0.7453  | Train R2 = 0.2491   | Train MAE = 0.6107 \n",
            " Val loss = 0.6355  | Val R2 = 0.2179   | Val MAE = 0.6225 \n",
            "\n",
            "epoch 1000/1000\n",
            " Train loss = 0.7386  | Train R2 = 0.2705   | Train MAE = 0.5986 \n",
            " Val loss = 0.6197  | Val R2 = 0.2373   | Val MAE = 0.6146 \n"
          ],
          "name": "stdout"
        }
      ]
    },
    {
      "cell_type": "code",
      "metadata": {
        "colab": {
          "base_uri": "https://localhost:8080/",
          "height": 369
        },
        "id": "-i9ig1iSvzZr",
        "outputId": "84b146d0-5e6a-490b-97c2-b14615405266"
      },
      "source": [
        "fig, axes = plt.subplots(nrows=1, ncols=3, figsize=(15, 5))\n",
        "axes[0].plot(train_losses, label=\"train loss\")\n",
        "axes[0].plot(val_losses, label=\"val loss\")\n",
        "axes[0].legend(loc=\"upper right\")\n",
        "\n",
        "axes[1].plot(train_maes, label=\"train mae\")\n",
        "axes[1].plot(val_maes, label=\"val mae\")\n",
        "axes[1].legend(loc=\"upper left\")\n",
        "\n",
        "axes[2].plot(train_r2s, label=\"train R2\")\n",
        "axes[2].plot(val_r2s, label=\"val R2\")\n",
        "axes[2].legend(loc=\"upper left\")\n",
        "\n",
        "fig.tight_layout()\n"
      ],
      "execution_count": 174,
      "outputs": [
        {
          "output_type": "display_data",
          "data": {
            "image/png": "[encoded data removed]",
            "text/plain": [
              "<Figure size 1080x360 with 3 Axes>"
            ]
          },
          "metadata": {
            "tags": [],
            "needs_background": "light"
          }
        }
      ]
    },
    {
      "cell_type": "markdown",
      "metadata": {
        "id": "AJ0tTBYXOMOo"
      },
      "source": [
        "## **Test evaluation**"
      ]
    },
    {
      "cell_type": "code",
      "metadata": {
        "colab": {
          "base_uri": "https://localhost:8080/"
        },
        "id": "BAsKlO_Er9ez",
        "outputId": "ec0e2141-5742-4ead-d0fa-7b3a5f331ca8"
      },
      "source": [
        "model = torch.load(\"/content/model_min_mae.pt\")\n",
        "_, test_mae, test_mse, test_r2 = evaluate_model(testLoader, model)\n",
        "print(f\"test mae = {test_mae.round(3)}\", f\" | test mse = {test_mse.round(4)}\", f\" | test R2 = {test_r2.round(4)}\")\n"
      ],
      "execution_count": 175,
      "outputs": [
        {
          "output_type": "stream",
          "text": [
            "test mae = 0.632  | test mse = 0.7065  | test R2 = 0.2213\n"
          ],
          "name": "stdout"
        }
      ]
    },
    {
      "cell_type": "code",
      "metadata": {
        "colab": {
          "base_uri": "https://localhost:8080/"
        },
        "id": "1Y5is7_nntZ9",
        "outputId": "f103320b-ce20-4cf2-ab87-9f4c8bb260b3"
      },
      "source": [
        "from sklearn.linear_model import LinearRegression\n",
        "LRmodel = LinearRegression()\n",
        "LRmodel.fit(X_train,y_train)\n",
        "y_pred = LRmodel.predict(X_test)\n",
        "\n",
        "\n",
        "mae = mean_absolute_error(y_test, y_pred)\n",
        "mse = mean_squared_error(y_test, y_pred) \n",
        "R2 = r2_score(y_test, y_pred) \n",
        "print(\"Linear Regression Results:\")\n",
        "print(f\"test MAE = {mae.round(4)} \", f\" | test MSE = {mse.round(4)}\", f\" | test R2 = {R2.round(4)}\")"
      ],
      "execution_count": 176,
      "outputs": [
        {
          "output_type": "stream",
          "text": [
            "Linear Regression Results:\n",
            "test MAE = 0.7358   | test MSE = 0.8589  | test R2 = 0.0533\n"
          ],
          "name": "stdout"
        }
      ]
    },
    {
      "cell_type": "code",
      "metadata": {
        "id": "dDvwR6XAnR36"
      },
      "source": [
        ""
      ],
      "execution_count": null,
      "outputs": []
    }
  ]
}